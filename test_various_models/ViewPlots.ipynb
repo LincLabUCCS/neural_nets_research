{
 "cells": [
  {
   "cell_type": "code",
   "execution_count": null,
   "metadata": {},
   "outputs": [],
   "source": [
    "# cd .."
   ]
  },
  {
   "cell_type": "code",
   "execution_count": null,
   "metadata": {},
   "outputs": [],
   "source": [
    "import matplotlib.pyplot as plt\n",
    "import os"
   ]
  },
  {
   "cell_type": "code",
   "execution_count": null,
   "metadata": {},
   "outputs": [],
   "source": [
    "plot_every = 100\n",
    "suffix = \"validation.txt\"\n",
    "matching_files = []\n",
    "files = [f for f in os.listdir('.') if os.path.isfile(f)]\n",
    "for name in files:\n",
    "    if name[-len(suffix):] == suffix:\n",
    "        matching_files.append(name[:-len(suffix)])\n",
    "print(matching_files)\n",
    "\n",
    "for filename in matching_files:\n",
    "\n",
    "    with open(filename + \"train.txt\") as f:\n",
    "        points = [float(x) for x in f.readlines()]\n",
    "\n",
    "    plt.plot([x * plot_every for x in range(len(points))], points)\n",
    "    plt.title(filename + \"train\")\n",
    "    plt.show()\n",
    "\n",
    "    with open(filename + \"validation.txt\") as f:\n",
    "        points = [float(x) for x in f.readlines()]\n",
    "\n",
    "    plt.plot([x * plot_every for x in range(len(points))], points)\n",
    "    plt.title(filename + \"validation\")\n",
    "    plt.show()\n"
   ]
  },
  {
   "cell_type": "code",
   "execution_count": null,
   "metadata": {},
   "outputs": [],
   "source": [
    "with open(\"t2s-normal-vars-train.txt\") as f:\n",
    "    points = [float(x) for x in f.readlines()]\n",
    "\n",
    "plt.plot([x * plot_every for x in range(len(points))], points)\n",
    "plt.title(\"t2s-normal-vars-train\")\n",
    "plt.show()"
   ]
  }
 ],
 "metadata": {
  "kernelspec": {
   "display_name": "Python 3",
   "language": "python",
   "name": "python3"
  },
  "language_info": {
   "codemirror_mode": {
    "name": "ipython",
    "version": 3
   },
   "file_extension": ".py",
   "mimetype": "text/x-python",
   "name": "python",
   "nbconvert_exporter": "python",
   "pygments_lexer": "ipython3",
   "version": "3.5.2"
  }
 },
 "nbformat": 4,
 "nbformat_minor": 2
}
