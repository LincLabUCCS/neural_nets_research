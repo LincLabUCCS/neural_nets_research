{
 "cells": [
  {
   "cell_type": "code",
   "execution_count": 1,
   "metadata": {},
   "outputs": [],
   "source": [
    "%matplotlib inline"
   ]
  },
  {
   "cell_type": "code",
   "execution_count": 2,
   "metadata": {},
   "outputs": [],
   "source": [
    "import nltk\n",
    "\n",
    "def create_dict(word_list):\n",
    "    word_dict = {}\n",
    "    for word in word_list:\n",
    "        if not word in word_dict:\n",
    "            word_dict[word] = len(word_dict)\n",
    "    return word_dict\n",
    "\n",
    "raw_data = nltk.corpus.treebank.words()\n",
    "word_list = [word.lower() for word in raw_data if word.isalpha()]\n",
    "word_dict = create_dict(word_list)"
   ]
  },
  {
   "cell_type": "code",
   "execution_count": 3,
   "metadata": {},
   "outputs": [],
   "source": [
    "import matplotlib.pyplot as plt\n",
    "import matplotlib.ticker as ticker\n",
    "\n",
    "def plot(data):\n",
    "    plt.figure()\n",
    "    plt.plot(data)"
   ]
  },
  {
   "cell_type": "code",
   "execution_count": 17,
   "metadata": {
    "scrolled": true
   },
   "outputs": [
    {
     "name": "stdout",
     "output_type": "stream",
     "text": [
      "0\n",
      "100\n",
      "200\n",
      "300\n",
      "400\n",
      "500\n",
      "600\n",
      "700\n",
      "800\n",
      "900\n",
      "1000\n",
      "1100\n",
      "1200\n",
      "1300\n",
      "1400\n",
      "1500\n",
      "1600\n",
      "1700\n",
      "1800\n",
      "1900\n",
      "2000\n",
      "2100\n",
      "2200\n",
      "2300\n",
      "2400\n",
      "2500\n",
      "2600\n",
      "2700\n",
      "2800\n",
      "2900\n",
      "3000\n",
      "3100\n",
      "3200\n",
      "3300\n",
      "3400\n",
      "3500\n",
      "3600\n"
     ]
    }
   ],
   "source": [
    "import torch\n",
    "import torch.nn as nn\n",
    "from torch.autograd import Variable\n",
    "import torch.utils.data as d\n",
    "import torch.nn.functional as F\n",
    "import torch.optim as optim\n",
    "\n",
    "\n",
    "class Skipgram(nn.Module):\n",
    "    def __init__(self, hidden_size, vocab_size):\n",
    "        super(Skipgram, self).__init__()\n",
    "        self.embedding_layer = nn.Embedding(vocab_size, hidden_size)\n",
    "        self.output_layer = nn.Linear(hidden_size, vocab_size)\n",
    "        \n",
    "    def forward(self, input):\n",
    "        input_times_embedding = self.embedding_layer(input)\n",
    "        output = self.output_layer(input_times_embedding)\n",
    "        return torch.squeeze(output)\n",
    "    \n",
    "def train(input, labels):\n",
    "    optimizer.zero_grad()\n",
    "    input = Variable(input).cuda()\n",
    "    output = skipgram(input)\n",
    "    labels.transpose(0,1)\n",
    "    loss = skipgram_loss(output, labels)\n",
    "    loss.backward()\n",
    "    optimizer.step()\n",
    "\n",
    "\n",
    "def trainAll(sentences, context_size, word_dict):\n",
    "    dataset = SkipgramDataset(sentences, context_size, word_dict)\n",
    "    \n",
    "    data_loader = d.DataLoader(dataset, batch_size = batch_size)\n",
    "    i=0\n",
    "    for _ in range(50):\n",
    "        for word, label in data_loader:\n",
    "            if (i%100 == 0):\n",
    "                print(i)\n",
    "            train(word, Variable(label).cuda())\n",
    "            i+=1\n",
    "\n",
    "# In the form\n",
    "# 0 - ('a', ['I', 'am', 'purple', 'moose'])\n",
    "# 1 - ('purple', ['am', 'a', 'moose', 'that'])\n",
    "class SkipgramDataset(d.Dataset):\n",
    "    def __init__(self, text, context_size, word_dict):\n",
    "        \n",
    "        # Convert all word to their indices\n",
    "        indexes = [word_dict[word] for word in text]\n",
    "        \n",
    "        # Create word_map\n",
    "        self.word_list = [(torch.LongTensor([indexes[i]]), torch.LongTensor(indexes[i-context_size: i] + indexes[i+1: i+1+context_size])) \n",
    "                         for i in range(context_size, len(text) - context_size)] \n",
    "        \n",
    "    def __len__(self):\n",
    "        return len(self.word_list)\n",
    "    \n",
    "    def __getitem__(self, i):\n",
    "        return self.word_list[i]\n",
    "        \n",
    "\n",
    "    \n",
    "def skipgram_loss(datapoint, label):\n",
    "    total_loss = 0\n",
    "    label = torch.transpose(label, 0, 1)\n",
    "    for word in label:\n",
    "        new_loss = F.cross_entropy(datapoint, word)\n",
    "        total_loss += new_loss\n",
    "    all_losses.append(total_loss.data[0])\n",
    "    return total_loss\n",
    "    \n",
    "    \n",
    "hidden_size = 300\n",
    "batch_size = 1024\n",
    "\n",
    "skipgram = nn.DataParallel(Skipgram(hidden_size, len(word_dict)).cuda())\n",
    "optimizer = optim.SGD(skipgram.parameters(), lr = 0.001, momentum=0.9)\n",
    "all_losses = []\n",
    "context_size = 2\n",
    "trainAll(word_list, context_size, word_dict)\n",
    "\n",
    "    \n",
    "        \n",
    "        "
   ]
  },
  {
   "cell_type": "code",
   "execution_count": null,
   "metadata": {
    "collapsed": true
   },
   "outputs": [],
   "source": []
  },
  {
   "cell_type": "code",
   "execution_count": 20,
   "metadata": {},
   "outputs": [
    {
     "data": {
      "text/plain": [
       "[<matplotlib.lines.Line2D at 0x7fbb3ba129b0>]"
      ]
     },
     "execution_count": 20,
     "metadata": {},
     "output_type": "execute_result"
    },
    {
     "data": {
      "image/png": "[encoded data removed]",
      "text/plain": [
       "<matplotlib.figure.Figure at 0x7fbb3ae4efd0>"
      ]
     },
     "metadata": {},
     "output_type": "display_data"
    }
   ],
   "source": [
    "import matplotlib.pyplot as plt\n",
    "import matplotlib.ticker as ticker\n",
    "\n",
    "plt.figure()\n",
    "plt.plot(all_losses[0:-1:50])"
   ]
  },
  {
   "cell_type": "code",
   "execution_count": 163,
   "metadata": {},
   "outputs": [
    {
     "name": "stdout",
     "output_type": "stream",
     "text": [
      "[36.413177490234375, 35.85969543457031]\n"
     ]
    }
   ],
   "source": [
    "print(all_losses[0:-1:100])"
   ]
  },
  {
   "cell_type": "code",
   "execution_count": 134,
   "metadata": {},
   "outputs": [
    {
     "data": {
      "text/plain": [
       "['Pierre', 'Vinken', ',', '61', 'years', 'old', ',', ...]"
      ]
     },
     "execution_count": 134,
     "metadata": {},
     "output_type": "execute_result"
    }
   ],
   "source": []
  }
 ],
 "metadata": {
  "kernelspec": {
   "display_name": "Python 3",
   "language": "python",
   "name": "python3"
  },
  "language_info": {
   "codemirror_mode": {
    "name": "ipython",
    "version": 3
   },
   "file_extension": ".py",
   "mimetype": "text/x-python",
   "name": "python",
   "nbconvert_exporter": "python",
   "pygments_lexer": "ipython3",
   "version": "3.5.2"
  }
 },
 "nbformat": 4,
 "nbformat_minor": 2
}
