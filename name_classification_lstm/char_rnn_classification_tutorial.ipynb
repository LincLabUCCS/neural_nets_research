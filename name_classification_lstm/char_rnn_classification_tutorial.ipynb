{
 "cells": [
  {
   "cell_type": "code",
   "execution_count": 1,
   "metadata": {},
   "outputs": [],
   "source": [
    "%matplotlib inline"
   ]
  },
  {
   "cell_type": "markdown",
   "metadata": {},
   "source": [
    "\n",
    "Classifying Names with a Character-Level RNN\n",
    "*********************************************\n",
    "**Author**: `Sean Robertson <https://github.com/spro/practical-pytorch>`_\n",
    "\n",
    "We will be building and training a basic character-level RNN to classify\n",
    "words. A character-level RNN reads words as a series of characters -\n",
    "outputting a prediction and \"hidden state\" at each step, feeding its\n",
    "previous hidden state into each next step. We take the final prediction\n",
    "to be the output, i.e. which class the word belongs to.\n",
    "\n",
    "Specifically, we'll train on a few thousand surnames from 18 languages\n",
    "of origin, and predict which language a name is from based on the\n",
    "spelling:\n",
    "\n",
    "::\n",
    "\n",
    "    $ python predict.py Hinton\n",
    "    (-0.47) Scottish\n",
    "    (-1.52) English\n",
    "    (-3.57) Irish\n",
    "\n",
    "    $ python predict.py Schmidhuber\n",
    "    (-0.19) German\n",
    "    (-2.48) Czech\n",
    "    (-2.68) Dutch\n",
    "\n",
    "\n",
    "**Recommended Reading:**\n",
    "\n",
    "I assume you have at least installed PyTorch, know Python, and\n",
    "understand Tensors:\n",
    "\n",
    "-  http://pytorch.org/ For installation instructions\n",
    "-  :doc:`/beginner/deep_learning_60min_blitz` to get started with PyTorch in general\n",
    "-  :doc:`/beginner/pytorch_with_examples` for a wide and deep overview\n",
    "-  :doc:`/beginner/former_torchies_tutorial` if you are former Lua Torch user\n",
    "\n",
    "It would also be useful to know about RNNs and how they work:\n",
    "\n",
    "-  `The Unreasonable Effectiveness of Recurrent Neural\n",
    "   Networks <http://karpathy.github.io/2015/05/21/rnn-effectiveness/>`__\n",
    "   shows a bunch of real life examples\n",
    "-  `Understanding LSTM\n",
    "   Networks <http://colah.github.io/posts/2015-08-Understanding-LSTMs/>`__\n",
    "   is about LSTMs specifically but also informative about RNNs in\n",
    "   general\n",
    "\n",
    "Preparing the Data\n",
    "==================\n",
    "\n",
    ".. Note::\n",
    "   Download the data from\n",
    "   `here <https://download.pytorch.org/tutorial/data.zip>`_\n",
    "   and extract it to the current directory.\n",
    "\n",
    "Included in the ``data/names`` directory are 18 text files named as\n",
    "\"[Language].txt\". Each file contains a bunch of names, one name per\n",
    "line, mostly romanized (but we still need to convert from Unicode to\n",
    "ASCII).\n",
    "\n",
    "We'll end up with a dictionary of lists of names per language,\n",
    "``{language: [names ...]}``. The generic variables \"category\" and \"line\"\n",
    "(for language and name in our case) are used for later extensibility.\n",
    "\n"
   ]
  },
  {
   "cell_type": "code",
   "execution_count": 2,
   "metadata": {},
   "outputs": [
    {
     "name": "stdout",
     "output_type": "stream",
     "text": [
      "['data/names/Greek.txt', 'data/names/French.txt', 'data/names/English.txt', 'data/names/Korean.txt', 'data/names/Japanese.txt', 'data/names/Polish.txt', 'data/names/Dutch.txt', 'data/names/Arabic.txt', 'data/names/Irish.txt', 'data/names/German.txt', 'data/names/Czech.txt', 'data/names/Italian.txt', 'data/names/Portuguese.txt', 'data/names/Spanish.txt', 'data/names/Scottish.txt', 'data/names/Chinese.txt', 'data/names/Vietnamese.txt', 'data/names/Russian.txt']\n",
      "Slusarski\n"
     ]
    }
   ],
   "source": [
    "from __future__ import unicode_literals, print_function, division\n",
    "from io import open\n",
    "import glob\n",
    "\n",
    "def findFiles(path): return glob.glob(path)\n",
    "\n",
    "print(findFiles('data/names/*.txt'))\n",
    "\n",
    "import unicodedata\n",
    "import string\n",
    "\n",
    "all_letters = string.ascii_letters + \" .,;'\"\n",
    "n_letters = len(all_letters)\n",
    "\n",
    "# Turn a Unicode string to plain ASCII, thanks to http://stackoverflow.com/a/518232/2809427\n",
    "def unicodeToAscii(s):\n",
    "    return ''.join(\n",
    "        c for c in unicodedata.normalize('NFD', s)\n",
    "        if unicodedata.category(c) != 'Mn'\n",
    "        and c in all_letters\n",
    "    )\n",
    "\n",
    "print(unicodeToAscii('Ślusàrski'))\n",
    "\n",
    "# Build the category_lines dictionary, a list of names per language\n",
    "category_lines = {}\n",
    "all_categories = []\n",
    "\n",
    "# Read a file and split into lines\n",
    "def readLines(filename):\n",
    "    lines = open(filename, encoding='utf-8').read().strip().split('\\n')\n",
    "    return [unicodeToAscii(line) for line in lines]\n",
    "\n",
    "for filename in findFiles('data/names/*.txt'):\n",
    "    category = filename.split('/')[-1].split('.')[0]\n",
    "    all_categories.append(category)\n",
    "    lines = readLines(filename)\n",
    "    category_lines[category] = lines\n",
    "\n",
    "n_categories = len(all_categories)"
   ]
  },
  {
   "cell_type": "markdown",
   "metadata": {},
   "source": [
    "Now we have ``category_lines``, a dictionary mapping each category\n",
    "(language) to a list of lines (names). We also kept track of\n",
    "``all_categories`` (just a list of languages) and ``n_categories`` for\n",
    "later reference.\n",
    "\n",
    "\n"
   ]
  },
  {
   "cell_type": "code",
   "execution_count": 3,
   "metadata": {},
   "outputs": [
    {
     "name": "stdout",
     "output_type": "stream",
     "text": [
      "['Abandonato', 'Abatangelo', 'Abatantuono', 'Abate', 'Abategiovanni']\n"
     ]
    }
   ],
   "source": [
    "print(category_lines['Italian'][:5])"
   ]
  },
  {
   "cell_type": "markdown",
   "metadata": {},
   "source": [
    "Turning Names into Tensors\n",
    "--------------------------\n",
    "\n",
    "Now that we have all the names organized, we need to turn them into\n",
    "Tensors to make any use of them.\n",
    "\n",
    "To represent a single letter, we use a \"one-hot vector\" of size\n",
    "``<1 x n_letters>``. A one-hot vector is filled with 0s except for a 1\n",
    "at index of the current letter, e.g. ``\"b\" = <0 1 0 0 0 ...>``.\n",
    "\n",
    "To make a word we join a bunch of those into a 2D matrix\n",
    "``<line_length x 1 x n_letters>``.\n",
    "\n",
    "That extra 1 dimension is because PyTorch assumes everything is in\n",
    "batches - we're just using a batch size of 1 here.\n",
    "\n",
    "\n"
   ]
  },
  {
   "cell_type": "code",
   "execution_count": 4,
   "metadata": {},
   "outputs": [
    {
     "name": "stdout",
     "output_type": "stream",
     "text": [
      "\n",
      "\n",
      "Columns 0 to 12 \n",
      "    0     0     0     0     0     0     0     0     0     0     0     0     0\n",
      "\n",
      "Columns 13 to 25 \n",
      "    0     0     0     0     0     0     0     0     0     0     0     0     0\n",
      "\n",
      "Columns 26 to 38 \n",
      "    0     0     0     0     0     0     0     0     0     1     0     0     0\n",
      "\n",
      "Columns 39 to 51 \n",
      "    0     0     0     0     0     0     0     0     0     0     0     0     0\n",
      "\n",
      "Columns 52 to 56 \n",
      "    0     0     0     0     0\n",
      "[torch.FloatTensor of size 1x57]\n",
      "\n",
      "torch.Size([5, 1, 57])\n"
     ]
    }
   ],
   "source": [
    "import torch\n",
    "\n",
    "# Find letter index from all_letters, e.g. \"a\" = 0\n",
    "def letterToIndex(letter):\n",
    "    return all_letters.find(letter)\n",
    "\n",
    "# Just for demonstration, turn a letter into a <1 x n_letters> Tensor\n",
    "def letterToTensor(letter):\n",
    "    tensor = torch.zeros(1, n_letters)\n",
    "    tensor[0][letterToIndex(letter)] = 1\n",
    "    return tensor\n",
    "\n",
    "# Turn a line into a <line_length x 1 x n_letters>,\n",
    "# or an array of one-hot letter vectors\n",
    "def lineToTensor(line):\n",
    "    tensor = torch.zeros(len(line), 1, n_letters)\n",
    "    for li, letter in enumerate(line):\n",
    "        tensor[li][0][letterToIndex(letter)] = 1\n",
    "    return tensor\n",
    "\n",
    "print(letterToTensor('J'))\n",
    "\n",
    "print(lineToTensor('Jones').size())"
   ]
  },
  {
   "cell_type": "markdown",
   "metadata": {},
   "source": [
    "Creating the Network\n",
    "====================\n",
    "\n",
    "Before autograd, creating a recurrent neural network in Torch involved\n",
    "cloning the parameters of a layer over several timesteps. The layers\n",
    "held hidden state and gradients which are now entirely handled by the\n",
    "graph itself. This means you can implement a RNN in a very \"pure\" way,\n",
    "as regular feed-forward layers.\n",
    "\n",
    "This RNN module (mostly copied from `the PyTorch for Torch users\n",
    "tutorial <https://github.com/pytorch/tutorials/blob/master/Introduction%20to%20PyTorch%20for%20former%20Torchies.ipynb>`__)\n",
    "is just 2 linear layers which operate on an input and hidden state, with\n",
    "a LogSoftmax layer after the output.\n",
    "\n",
    ".. figure:: https://i.imgur.com/Z2xbySO.png\n",
    "   :alt: \n",
    "\n",
    "\n",
    "\n"
   ]
  },
  {
   "cell_type": "code",
   "execution_count": 5,
   "metadata": {},
   "outputs": [],
   "source": [
    "import torch.nn as nn\n",
    "from torch.autograd import Variable\n",
    "\n",
    "class MyLSTMLayer(nn.Module):\n",
    "    def __init__(self, input_size, hidden_size):\n",
    "        super(MyLSTMLayer, self).__init__()\n",
    "        \n",
    "        self.hidden_size = hidden_size\n",
    "        \n",
    "        self.forgetGate = nn.Linear(input_size + hidden_size, hidden_size)\n",
    "        self.incorporatePositionGate = nn.Linear(input_size + hidden_size, hidden_size)\n",
    "        self.incorporateValueGate = nn.Linear(input_size + hidden_size, hidden_size)\n",
    "        self.hiddenValueGate = nn.Linear(hidden_size, hidden_size)\n",
    "        \n",
    "        self.tanh = nn.Tanh()\n",
    "        self.sigmoid = nn.Sigmoid()\n",
    "        self.relu = nn.ReLU()\n",
    "        \n",
    "    def forward_step(self, input, hidden, cell_state):\n",
    "        combined = torch.cat((input, hidden), 1)\n",
    "        \n",
    "        f = self.sigmoid(self.forgetGate(combined))\n",
    "        i = self.sigmoid(self.incorporatePositionGate(combined))\n",
    "        C_new = self.tanh(self.incorporateValueGate(combined))\n",
    "        \n",
    "        cell_state = f * cell_state + i * C_new\n",
    "        \n",
    "        hidden = self.relu(self.hiddenValueGate(cell_state))\n",
    "        \n",
    "        return hidden, cell_state\n",
    "    \n",
    "    def forward(self, input):\n",
    "        hidden, cell_state = self.initAll()\n",
    "        \n",
    "        outputs = []\n",
    "        \n",
    "        for i in range(input.size()[0]):\n",
    "            hidden, cell_state = self.forward_step(input[i], hidden, cell_state)\n",
    "            outputs.append(hidden)\n",
    "        \n",
    "        return torch.stack(outputs)\n",
    "\n",
    "    def initHidden(self):\n",
    "        return Variable(torch.zeros(1, self.hidden_size)).cuda()\n",
    "    \n",
    "    def initCellState(self):\n",
    "        return Variable(torch.zeros(1, self.hidden_size)).cuda()\n",
    "    \n",
    "    def initAll(self):\n",
    "        return self.initHidden(), self.initCellState()\n",
    "\n",
    "class myLSTM(nn.Module):\n",
    "    def __init__(self, input_size, hidden_sizes, output_size, layers):\n",
    "        super(myLSTM, self).__init__()\n",
    "        \n",
    "        self.lstm_layers = nn.ModuleList()\n",
    "        input_sizes = [input_size] + hidden_sizes[:-1] \n",
    "        \n",
    "        for input_size, hidden_size in zip(input_sizes, hidden_sizes):\n",
    "            self.lstm_layers.append(MyLSTMLayer(input_size, hidden_size))\n",
    "        \n",
    "        self.outputGate = nn.Linear(hidden_sizes[-1], output_size)\n",
    "        self.softmax = nn.LogSoftmax()\n",
    "\n",
    "    def forward(self, input):\n",
    "        hiddens = input\n",
    "        \n",
    "        for i, lstm_layer in enumerate(self.lstm_layers):\n",
    "            hiddens = lstm_layer(hiddens)\n",
    "        \n",
    "        return self.softmax(self.outputGate(hiddens[-1]))\n",
    "        \n",
    "n_hidden = 128\n",
    "lstm = myLSTM(n_letters, [n_hidden, n_hidden], n_categories, 2).cuda()"
   ]
  },
  {
   "cell_type": "markdown",
   "metadata": {},
   "source": [
    "To run a step of this network we need to pass an input (in our case, the\n",
    "Tensor for the current letter) and a previous hidden state (which we\n",
    "initialize as zeros at first). We'll get back the output (probability of\n",
    "each language) and a next hidden state (which we keep for the next\n",
    "step).\n",
    "\n",
    "Remember that PyTorch modules operate on Variables rather than straight\n",
    "up Tensors.\n",
    "\n",
    "\n"
   ]
  },
  {
   "cell_type": "markdown",
   "metadata": {},
   "source": [
    "For the sake of efficiency we don't want to be creating a new Tensor for\n",
    "every step, so we will use ``lineToTensor`` instead of\n",
    "``letterToTensor`` and use slices. This could be further optimized by\n",
    "pre-computing batches of Tensors.\n",
    "\n",
    "\n"
   ]
  },
  {
   "cell_type": "markdown",
   "metadata": {},
   "source": [
    "Training\n",
    "========\n",
    "Preparing for Training\n",
    "----------------------\n",
    "\n",
    "Before going into training we should make a few helper functions. The\n",
    "first is to interpret the output of the network, which we know to be a\n",
    "likelihood of each category. We can use ``Tensor.topk`` to get the index\n",
    "of the greatest value:\n",
    "\n",
    "\n"
   ]
  },
  {
   "cell_type": "code",
   "execution_count": 6,
   "metadata": {},
   "outputs": [],
   "source": [
    "def categoryFromOutput(output):\n",
    "    top_n, top_i = output.data.topk(1) # Tensor out of Variable with .data\n",
    "    category_i = top_i[0][0]\n",
    "    return all_categories[category_i], category_i"
   ]
  },
  {
   "cell_type": "markdown",
   "metadata": {},
   "source": [
    "We will also want a quick way to get a training example (a name and its\n",
    "language):\n",
    "\n",
    "\n"
   ]
  },
  {
   "cell_type": "code",
   "execution_count": 7,
   "metadata": {},
   "outputs": [
    {
     "name": "stdout",
     "output_type": "stream",
     "text": [
      "category = Arabic / line = Sayegh\n",
      "category = Czech / line = Sokolik\n",
      "category = Arabic / line = Sayegh\n",
      "category = German / line = Walkenhorst\n",
      "category = Portuguese / line = Romao\n",
      "category = Spanish / line = Oquendo\n",
      "category = Polish / line = Mozdzierz\n",
      "category = Japanese / line = Ito\n",
      "category = Korean / line = Kwak\n",
      "category = Irish / line = Michael\n"
     ]
    }
   ],
   "source": [
    "import random\n",
    "\n",
    "def randomChoice(l):\n",
    "    return l[random.randint(0, len(l) - 1)]\n",
    "\n",
    "def randomTrainingExample():\n",
    "    category = randomChoice(all_categories)\n",
    "    line = randomChoice(category_lines[category])\n",
    "    category_tensor = Variable(torch.LongTensor([all_categories.index(category)])).cuda()\n",
    "    line_tensor = Variable(lineToTensor(line)).cuda()\n",
    "    return category, line, category_tensor, line_tensor\n",
    "\n",
    "def pad(tensor, length):\n",
    "    return torch.cat([tensor, tensor.new(length - tensor.size(0), *tensor.size()[1:]).zero_()])\n",
    "\n",
    "# def randomBatch(batch_size):    \n",
    "#     for _ in range(batch_size):\n",
    "#         category, line, category_tensor, line_tensor = randomTrainingExample()\n",
    "#         examples.append(line_tensor)\n",
    "    \n",
    "#     max_length = 0\n",
    "    \n",
    "#     for example in examples:\n",
    "#         max_length = \n",
    "\n",
    "for i in range(10):\n",
    "    category, line, category_tensor, line_tensor = randomTrainingExample()\n",
    "    print('category =', category, '/ line =', line)"
   ]
  },
  {
   "cell_type": "markdown",
   "metadata": {},
   "source": [
    "Training the Network\n",
    "--------------------\n",
    "\n",
    "Now all it takes to train this network is show it a bunch of examples,\n",
    "have it make guesses, and tell it if it's wrong.\n",
    "\n",
    "For the loss function ``nn.NLLLoss`` is appropriate, since the last\n",
    "layer of the RNN is ``nn.LogSoftmax``.\n",
    "\n",
    "\n"
   ]
  },
  {
   "cell_type": "code",
   "execution_count": 8,
   "metadata": {},
   "outputs": [],
   "source": [
    "criterion = nn.NLLLoss()"
   ]
  },
  {
   "cell_type": "markdown",
   "metadata": {},
   "source": [
    "Each loop of training will:\n",
    "\n",
    "-  Create input and target tensors\n",
    "-  Create a zeroed initial hidden state\n",
    "-  Read each letter in and\n",
    "\n",
    "   -  Keep hidden state for next letter\n",
    "\n",
    "-  Compare final output to target\n",
    "-  Back-propagate\n",
    "-  Return the output and loss\n",
    "\n",
    "\n"
   ]
  },
  {
   "cell_type": "code",
   "execution_count": 9,
   "metadata": {},
   "outputs": [],
   "source": [
    "learning_rate = 0.005 # If you set this too high, it might explode. If too low, it might not learn\n",
    "\n",
    "def train(category_tensor, line_tensor):\n",
    "    lstm.zero_grad()\n",
    "\n",
    "    output = lstm(line_tensor)\n",
    "\n",
    "    loss = criterion(output, category_tensor)\n",
    "    loss.backward()\n",
    "\n",
    "    # Add parameters' gradients to their values, multiplied by learning rate\n",
    "    for p in lstm.parameters():\n",
    "        p.data.add_(-learning_rate, p.grad.data)\n",
    "\n",
    "    return output, loss.data[0]"
   ]
  },
  {
   "cell_type": "markdown",
   "metadata": {},
   "source": [
    "Now we just have to run that with a bunch of examples. Since the\n",
    "``train`` function returns both the output and loss we can print its\n",
    "guesses and also keep track of loss for plotting. Since there are 1000s\n",
    "of examples we print only every ``print_every`` examples, and take an\n",
    "average of the loss.\n",
    "\n",
    "\n"
   ]
  },
  {
   "cell_type": "code",
   "execution_count": 10,
   "metadata": {},
   "outputs": [
    {
     "name": "stdout",
     "output_type": "stream",
     "text": [
      "5000 1% (1m 20s) 2.9644 Cui / Japanese ✗ (Chinese)\n",
      "10000 3% (2m 37s) 2.8699 Alo / Czech ✗ (Italian)\n",
      "15000 5% (3m 53s) 2.9399 Paloumbas / French ✗ (Greek)\n",
      "20000 6% (5m 11s) 2.4278 Rendon / Spanish ✓\n",
      "25000 8% (6m 28s) 2.5251 Ibanez / Portuguese ✗ (Spanish)\n",
      "30000 10% (7m 47s) 2.7673 Tsangaris / Czech ✗ (Greek)\n",
      "35000 11% (9m 7s) 3.0767 Rusnak / Arabic ✗ (Polish)\n",
      "40000 13% (10m 26s) 2.5525 Dubrovin / Japanese ✗ (Russian)\n",
      "45000 15% (11m 42s) 2.7357 Kanavos / Czech ✗ (Greek)\n",
      "50000 16% (13m 2s) 2.8633 Accorsi / Spanish ✗ (Italian)\n",
      "55000 18% (14m 22s) 2.0152 Mateus / Portuguese ✓\n",
      "60000 20% (15m 38s) 2.0321 Kalb / Arabic ✓\n",
      "65000 21% (16m 56s) 1.9452 Shamon / Irish ✗ (Arabic)\n",
      "70000 23% (18m 14s) 0.4907 Stamatelos / Greek ✓\n",
      "75000 25% (19m 32s) 3.3283 Trumbauer / Irish ✗ (German)\n",
      "80000 26% (20m 49s) 1.9699 Krivolavy / French ✗ (Czech)\n",
      "85000 28% (22m 4s) 0.9974 Demetrious / Greek ✓\n",
      "90000 30% (23m 21s) 0.4255 Thai / Vietnamese ✓\n",
      "95000 31% (24m 42s) 2.1062 Macclelland / German ✗ (Irish)\n",
      "100000 33% (25m 59s) 0.0167 Zhashkov / Russian ✓\n",
      "105000 35% (27m 19s) 1.1304 Donovan / Irish ✓\n",
      "110000 36% (28m 37s) 5.0776 Auttenberg / German ✗ (Polish)\n",
      "115000 38% (29m 57s) 1.1062 Bengochea / Spanish ✓\n",
      "120000 40% (31m 12s) 1.9330 Schulz / Scottish ✗ (German)\n",
      "125000 41% (32m 28s) 0.2209 Lieu / Vietnamese ✓\n",
      "130000 43% (33m 43s) 0.3092 Fernandes / Portuguese ✓\n",
      "135000 45% (34m 58s) 4.8652 Zaloumi / Italian ✗ (Greek)\n",
      "140000 46% (36m 14s) 0.4266 Ceallach / Irish ✓\n",
      "145000 48% (37m 29s) 3.6535 BimBad / Arabic ✗ (Russian)\n",
      "150000 50% (38m 45s) 1.8650 Sheng / Korean ✗ (Chinese)\n",
      "155000 51% (40m 0s) 1.1713 Quirke / Scottish ✗ (Irish)\n",
      "160000 53% (41m 16s) 1.7593 Oberto / Spanish ✗ (Italian)\n",
      "165000 55% (42m 32s) 0.3296 Africano / Italian ✓\n",
      "170000 56% (43m 47s) 5.6629 Cerda / Portuguese ✗ (Czech)\n",
      "175000 58% (45m 4s) 0.8320 You / Chinese ✗ (Korean)\n",
      "180000 60% (46m 19s) 0.0893 Shaikevich / Russian ✓\n",
      "185000 61% (47m 37s) 0.5270 Rudawski / Polish ✓\n",
      "190000 63% (48m 55s) 0.2359 Alexandropoulos / Greek ✓\n",
      "195000 65% (50m 14s) 0.1908 Kojima / Japanese ✓\n",
      "200000 66% (51m 30s) 0.2573 Ubina / Spanish ✓\n",
      "205000 68% (52m 44s) 1.1804 Cassidy / English ✗ (Irish)\n",
      "210000 70% (53m 56s) 0.0847 Arvanitoyannis / Greek ✓\n",
      "215000 71% (55m 8s) 0.0119 Nervetti / Italian ✓\n",
      "220000 73% (56m 25s) 2.0750 Slejtr / Dutch ✗ (Czech)\n",
      "225000 75% (57m 40s) 1.6584 Niemec / Dutch ✗ (Polish)\n",
      "230000 76% (58m 56s) 0.0123 Nomikos / Greek ✓\n",
      "235000 78% (60m 11s) 1.0333 Doyle / Irish ✓\n",
      "240000 80% (61m 25s) 0.0352 Romao / Portuguese ✓\n",
      "245000 81% (62m 41s) 0.2398 Svocak / Czech ✓\n",
      "250000 83% (63m 55s) 0.1756 Cabrera / Spanish ✓\n",
      "255000 85% (65m 13s) 0.0703 Pham / Vietnamese ✓\n",
      "260000 86% (66m 28s) 1.8723 Olmos / Greek ✗ (Spanish)\n",
      "265000 88% (67m 47s) 0.0348 Moralez / Spanish ✓\n",
      "270000 90% (69m 2s) 0.0016 Okimoto / Japanese ✓\n",
      "275000 91% (70m 17s) 0.0198 Madeira / Portuguese ✓\n",
      "280000 93% (71m 35s) 1.9107 Kaza / Czech ✗ (Japanese)\n",
      "285000 95% (72m 55s) 0.0009 Shibasaki / Japanese ✓\n",
      "290000 96% (74m 11s) 0.0621 Campos / Portuguese ✓\n",
      "295000 98% (75m 28s) 0.3191 Del bosque / Spanish ✓\n",
      "300000 100% (76m 45s) 0.0173 Sarkis / Arabic ✓\n"
     ]
    }
   ],
   "source": [
    "import time\n",
    "import math\n",
    "\n",
    "n_iters = 300000\n",
    "print_every = 5000\n",
    "plot_every = 1000\n",
    "\n",
    "\n",
    "\n",
    "# Keep track of losses for plotting\n",
    "current_loss = 0\n",
    "all_losses = []\n",
    "\n",
    "def timeSince(since):\n",
    "    now = time.time()\n",
    "    s = now - since\n",
    "    m = math.floor(s / 60)\n",
    "    s -= m * 60\n",
    "    return '%dm %ds' % (m, s)\n",
    "\n",
    "start = time.time()\n",
    "\n",
    "for iter in range(1, n_iters + 1):\n",
    "    category, line, category_tensor, line_tensor = randomTrainingExample()\n",
    "    output, loss = train(category_tensor, line_tensor)\n",
    "    current_loss += loss\n",
    "\n",
    "    # Print iter number, loss, name and guess\n",
    "    if iter % print_every == 0:\n",
    "        guess, guess_i = categoryFromOutput(output)\n",
    "        correct = '✓' if guess == category else '✗ (%s)' % category\n",
    "        print('%d %d%% (%s) %.4f %s / %s %s' % (iter, iter / n_iters * 100, timeSince(start), loss, line, guess, correct))\n",
    "\n",
    "    # Add current loss avg to list of losses\n",
    "    if iter % plot_every == 0:\n",
    "        all_losses.append(current_loss / plot_every)\n",
    "        current_loss = 0"
   ]
  },
  {
   "cell_type": "markdown",
   "metadata": {},
   "source": [
    "Plotting the Results\n",
    "--------------------\n",
    "\n",
    "Plotting the historical loss from ``all_losses`` shows the network\n",
    "learning:\n",
    "\n",
    "\n"
   ]
  },
  {
   "cell_type": "code",
   "execution_count": 15,
   "metadata": {},
   "outputs": [
    {
     "data": {
      "text/plain": [
       "[<matplotlib.lines.Line2D at 0x7fda11a21da0>]"
      ]
     },
     "execution_count": 15,
     "metadata": {},
     "output_type": "execute_result"
    },
    {
     "data": {
      "image/png": "[encoded data removed]",
      "text/plain": [
       "<matplotlib.figure.Figure at 0x7fda11f41320>"
      ]
     },
     "metadata": {},
     "output_type": "display_data"
    }
   ],
   "source": [
    "import matplotlib.pyplot as plt\n",
    "import matplotlib.ticker as ticker\n",
    "\n",
    "plt.figure()\n",
    "plt.plot(all_losses)"
   ]
  },
  {
   "cell_type": "markdown",
   "metadata": {},
   "source": [
    "Evaluating the Results\n",
    "======================\n",
    "\n",
    "To see how well the network performs on different categories, we will\n",
    "create a confusion matrix, indicating for every actual language (rows)\n",
    "which language the network guesses (columns). To calculate the confusion\n",
    "matrix a bunch of samples are run through the network with\n",
    "``evaluate()``, which is the same as ``train()`` minus the backprop.\n",
    "\n",
    "\n"
   ]
  },
  {
   "cell_type": "code",
   "execution_count": 12,
   "metadata": {},
   "outputs": [
    {
     "data": {
      "image/png": "[encoded data removed]",
      "text/plain": [
       "<matplotlib.figure.Figure at 0x7fda611c7b00>"
      ]
     },
     "metadata": {},
     "output_type": "display_data"
    }
   ],
   "source": [
    "# Keep track of correct guesses in a confusion matrix\n",
    "confusion = torch.zeros(n_categories, n_categories)\n",
    "n_confusion = 10000\n",
    "\n",
    "# Go through a bunch of examples and record which are correctly guessed\n",
    "for i in range(n_confusion):\n",
    "    category, line, category_tensor, line_tensor = randomTrainingExample()\n",
    "    output = lstm(line_tensor)\n",
    "    guess, guess_i = categoryFromOutput(output)\n",
    "    category_i = all_categories.index(category)\n",
    "    confusion[category_i][guess_i] += 1\n",
    "\n",
    "# Normalize by dividing every row by its sum\n",
    "for i in range(n_categories):\n",
    "    confusion[i] = confusion[i] / confusion[i].sum()\n",
    "\n",
    "# Set up plot\n",
    "fig = plt.figure()\n",
    "ax = fig.add_subplot(111)\n",
    "cax = ax.matshow(confusion.numpy())\n",
    "fig.colorbar(cax)\n",
    "\n",
    "# Set up axes\n",
    "ax.set_xticklabels([''] + all_categories, rotation=90)\n",
    "ax.set_yticklabels([''] + all_categories)\n",
    "\n",
    "# Force label at every tick\n",
    "ax.xaxis.set_major_locator(ticker.MultipleLocator(1))\n",
    "ax.yaxis.set_major_locator(ticker.MultipleLocator(1))\n",
    "\n",
    "# sphinx_gallery_thumbnail_number = 2\n",
    "plt.show()"
   ]
  },
  {
   "cell_type": "markdown",
   "metadata": {},
   "source": [
    "You can pick out bright spots off the main axis that show which\n",
    "languages it guesses incorrectly, e.g. Chinese for Korean, and Spanish\n",
    "for Italian. It seems to do very well with Greek, and very poorly with\n",
    "English (perhaps because of overlap with other languages).\n",
    "\n",
    "\n"
   ]
  },
  {
   "cell_type": "markdown",
   "metadata": {},
   "source": [
    "Running on User Input\n",
    "---------------------\n",
    "\n",
    "\n"
   ]
  },
  {
   "cell_type": "code",
   "execution_count": 19,
   "metadata": {},
   "outputs": [
    {
     "name": "stdout",
     "output_type": "stream",
     "text": [
      "\n",
      "> Drissi\n",
      "(-0.04) Italian\n",
      "(-4.30) Czech\n",
      "(-4.41) Japanese\n",
      "(-4.88) Arabic\n",
      "(-5.67) Russian\n",
      "(-6.29) Greek\n",
      "\n",
      "> Ojha\n",
      "(-0.32) Japanese\n",
      "(-1.79) Russian\n",
      "(-3.07) English\n",
      "(-3.24) Irish\n",
      "(-4.03) Czech\n",
      "(-5.65) German\n",
      "\n",
      "> Sandoval\n",
      "(-0.70) Czech\n",
      "(-1.06) Spanish\n",
      "(-2.43) Russian\n",
      "(-3.50) Italian\n",
      "(-3.62) English\n",
      "(-5.65) French\n",
      "\n",
      "> Watkins\n",
      "(-0.27) English\n",
      "(-1.55) German\n",
      "(-4.24) Russian\n",
      "(-5.65) Czech\n",
      "(-5.88) Scottish\n",
      "(-5.89) Dutch\n",
      "\n",
      "> Segev\n",
      "(-0.05) Russian\n",
      "(-3.74) German\n",
      "(-4.52) Czech\n",
      "(-4.81) English\n",
      "(-6.61) Korean\n",
      "(-7.66) Dutch\n",
      "\n",
      "> Sugiura\n",
      "(-0.01) Japanese\n",
      "(-5.09) Russian\n",
      "(-6.18) Greek\n",
      "(-6.99) Irish\n",
      "(-7.17) Italian\n",
      "(-7.22) Arabic\n",
      "\n",
      "> Draper\n",
      "(-1.02) French\n",
      "(-1.63) English\n",
      "(-1.68) German\n",
      "(-2.71) Czech\n",
      "(-2.90) Dutch\n",
      "(-2.92) Spanish\n",
      "\n",
      "> Mena\n",
      "(-0.45) Spanish\n",
      "(-1.10) Portuguese\n",
      "(-4.18) Italian\n",
      "(-4.74) Czech\n",
      "(-6.91) Dutch\n",
      "(-7.05) French\n"
     ]
    }
   ],
   "source": [
    "def predict(input_line, n_predictions=6):\n",
    "    print('\\n> %s' % input_line)\n",
    "    output = lstm(Variable(lineToTensor(input_line)).cuda())\n",
    "\n",
    "    # Get top N categories\n",
    "    topv, topi = output.data.topk(n_predictions, 1, True)\n",
    "    predictions = []\n",
    "\n",
    "    for i in range(n_predictions):\n",
    "        value = topv[0][i]\n",
    "        category_index = topi[0][i]\n",
    "        print('(%.2f) %s' % (value, all_categories[category_index]))\n",
    "        predictions.append([value, all_categories[category_index]])\n",
    "\n",
    "predict('Drissi')\n",
    "predict('Ojha')\n",
    "predict('Sandoval')\n",
    "predict('Watkins')\n",
    "predict('Segev')\n",
    "predict('Sugiura')\n",
    "predict('Draper')\n",
    "predict('Mena')"
   ]
  },
  {
   "cell_type": "code",
   "execution_count": 14,
   "metadata": {},
   "outputs": [
    {
     "name": "stdout",
     "output_type": "stream",
     "text": [
      "83.4\n"
     ]
    }
   ],
   "source": [
    "number_of_samples = 1000\n",
    "correct = 0\n",
    "\n",
    "for i in range(1000):\n",
    "    category, line, category_tensor, line_tensor = randomTrainingExample()\n",
    "    output = lstm(line_tensor)\n",
    "    guess, _ = categoryFromOutput(output)\n",
    "    correct += 1 if guess == category else 0\n",
    "\n",
    "print(correct/10)"
   ]
  },
  {
   "cell_type": "markdown",
   "metadata": {},
   "source": [
    "The final versions of the scripts `in the Practical PyTorch\n",
    "repo <https://github.com/spro/practical-pytorch/tree/master/char-rnn-classification>`__\n",
    "split the above code into a few files:\n",
    "\n",
    "-  ``data.py`` (loads files)\n",
    "-  ``model.py`` (defines the RNN)\n",
    "-  ``train.py`` (runs training)\n",
    "-  ``predict.py`` (runs ``predict()`` with command line arguments)\n",
    "-  ``server.py`` (serve prediction as a JSON API with bottle.py)\n",
    "\n",
    "Run ``train.py`` to train and save the network.\n",
    "\n",
    "Run ``predict.py`` with a name to view predictions:\n",
    "\n",
    "::\n",
    "\n",
    "    $ python predict.py Hazaki\n",
    "    (-0.42) Japanese\n",
    "    (-1.39) Polish\n",
    "    (-3.51) Czech\n",
    "\n",
    "Run ``server.py`` and visit http://localhost:5533/Yourname to get JSON\n",
    "output of predictions.\n",
    "\n",
    "\n"
   ]
  },
  {
   "cell_type": "markdown",
   "metadata": {},
   "source": [
    "Exercises\n",
    "=========\n",
    "\n",
    "-  Try with a different dataset of line -> category, for example:\n",
    "\n",
    "   -  Any word -> language\n",
    "   -  First name -> gender\n",
    "   -  Character name -> writer\n",
    "   -  Page title -> blog or subreddit\n",
    "\n",
    "-  Get better results with a bigger and/or better shaped network\n",
    "\n",
    "   -  Add more linear layers\n",
    "   -  Try the ``nn.LSTM`` and ``nn.GRU`` layers\n",
    "   -  Combine multiple of these RNNs as a higher level network\n",
    "\n",
    "\n"
   ]
  }
 ],
 "metadata": {
  "kernelspec": {
   "display_name": "Python 3",
   "language": "python",
   "name": "python3"
  },
  "language_info": {
   "codemirror_mode": {
    "name": "ipython",
    "version": 3
   },
   "file_extension": ".py",
   "mimetype": "text/x-python",
   "name": "python",
   "nbconvert_exporter": "python",
   "pygments_lexer": "ipython3",
   "version": "3.5.2"
  }
 },
 "nbformat": 4,
 "nbformat_minor": 1
}
