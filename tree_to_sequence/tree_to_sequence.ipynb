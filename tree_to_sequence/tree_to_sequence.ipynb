{
 "cells": [
  {
   "cell_type": "code",
   "execution_count": null,
   "metadata": {},
   "outputs": [],
   "source": [
    "cd .."
   ]
  },
  {
   "cell_type": "code",
   "execution_count": null,
   "metadata": {},
   "outputs": [],
   "source": [
    "import torch.optim as optim\n",
    "import torch.nn as nn\n",
    "\n",
    "from tree_to_sequence.program_datasets import ForLambdaDataset\n",
    "from tree_to_sequence.tree_to_sequence import TreeToSequence\n",
    "from tree_to_sequence.tree_to_sequence_attention import TreeToSequenceAttention\n",
    "from tree_to_sequence.tree_encoder import TreeEncoder\n",
    "from tree_to_sequence.sequence_encoder import SequenceEncoder\n",
    "from tree_to_sequence.multilayer_lstm_cell import MultilayerLSTMCell\n",
    "from neural_nets_library import training"
   ]
  },
  {
   "cell_type": "code",
   "execution_count": null,
   "metadata": {
    "code_folding": [
     3,
     19,
     36
    ]
   },
   "outputs": [],
   "source": [
    "num_vars = 10\n",
    "num_ints = 11\n",
    "\n",
    "for_ops = {\n",
    "    \"Var\": 0,\n",
    "    \"Const\": 1,\n",
    "    \"Plus\": 2,\n",
    "    \"Minus\": 3,\n",
    "    \"EqualFor\": 4,\n",
    "    \"LeFor\": 5,\n",
    "    \"GeFor\": 6,\n",
    "    \"Assign\": 7,\n",
    "    \"If\": 8,\n",
    "    \"Seq\": 9,\n",
    "    \"For\": 10\n",
    "}\n",
    "\n",
    "for_ops = {\"<\" + k.upper() + \">\": v for k,v in for_ops.items()}\n",
    "\n",
    "lambda_ops = {\n",
    "    \"Var\": 0,\n",
    "    \"Const\": 1,\n",
    "    \"Plus\": 2,\n",
    "    \"Minus\": 3,\n",
    "    \"EqualFor\": 4,\n",
    "    \"LeFor\": 5,\n",
    "    \"GeFor\": 6,\n",
    "    \"If\": 7,\n",
    "    \"Let\": 8,\n",
    "    \"Unit\": 9,\n",
    "    \"Letrec\": 10,\n",
    "    \"App\": 11\n",
    "}\n",
    "\n",
    "lambda_ops = {\"<\" + k.upper() + \">\": v for k,v in lambda_ops.items()}\n",
    "\n",
    "lambda_calculus_ops = {\n",
    "                \"<VARIABLE>\": 0,\n",
    "                \"<ABSTRACTION>\": 1,\n",
    "                \"<NUMBER>\": 2,\n",
    "                \"<BOOLEAN>\": 3,\n",
    "                \"<NIL>\": 4,\n",
    "                \"<IF>\": 5,\n",
    "                \"<CONS>\": 6,\n",
    "                \"<MATCH>\": 7,\n",
    "                \"<UNARYOPER>\": 8,\n",
    "                \"<BINARYOPER>\": 9,\n",
    "                \"<LET>\": 10,\n",
    "                \"<LETREC>\": 11,\n",
    "                \"<TRUE>\": 12,\n",
    "                \"<FALSE>\": 13,\n",
    "                \"<TINT>\": 14,\n",
    "                \"<TBOOL>\": 15,\n",
    "                \"<TINTLIST>\": 16,\n",
    "                \"<TFUN>\": 17,\n",
    "                \"<ARGUMENT>\": 18,\n",
    "                \"<NEG>\": 19,\n",
    "                \"<NOT>\": 20,\n",
    "                \"<PLUS>\": 21,\n",
    "                \"<MINUS>\": 22,\n",
    "                \"<TIMES>\": 23,\n",
    "                \"<DIVIDE>\": 24,\n",
    "                \"<AND>\": 25,\n",
    "                \"<OR>\": 26,\n",
    "                \"<EQUAL>\": 27,\n",
    "                \"<LESS>\": 28,\n",
    "                \"<APPLICATION>\": 29,\n",
    "                \"<HEAD>\": 30,\n",
    "                \"<TAIL>\": 31\n",
    "            }"
   ]
  },
  {
   "cell_type": "code",
   "execution_count": null,
   "metadata": {
    "code_folding": []
   },
   "outputs": [],
   "source": [
    "input_as_seq = False\n",
    "\n",
    "use_embedding = True\n",
    "binarize = False\n",
    "eos_tokens = False\n",
    "\n",
    "eos_bonus = 1 if eos_tokens else 0\n",
    "long_base_case = True\n"
   ]
  },
  {
   "cell_type": "code",
   "execution_count": null,
   "metadata": {
    "code_folding": []
   },
   "outputs": [],
   "source": [
    "for_lambda_dset = ForLambdaDataset(\"ANC/Easy-arbitraryForList.json\", binarize=binarize, \n",
    "                                   eos_tokens=eos_tokens, use_embedding=use_embedding, \n",
    "                                   long_base_case=long_base_case, input_as_seq=input_as_seq)"
   ]
  },
  {
   "cell_type": "code",
   "execution_count": null,
   "metadata": {},
   "outputs": [],
   "source": [
    "def reset_all_parameters_uniform(model, stdev):\n",
    "    for param in model.parameters():\n",
    "        nn.init.uniform(param, -stdev, stdev)"
   ]
  },
  {
   "cell_type": "code",
   "execution_count": null,
   "metadata": {
    "scrolled": true
   },
   "outputs": [],
   "source": [
    "embedding_size = 256\n",
    "hidden_size = 256\n",
    "nclass = num_vars + num_ints + len(lambda_ops.keys())\n",
    "num_layers = 1\n",
    "attention = True\n",
    "alignment_size = 50\n",
    "align_type = 1\n",
    "encoder_input_size = num_vars + num_ints + len(for_ops.keys()) + eos_bonus\n",
    "\n",
    "if input_as_seq:\n",
    "    encoder = SequenceEncoder(encoder_input_size, hidden_size, num_layers, attention=attention, use_embedding=use_embedding)\n",
    "else:\n",
    "    encoder = TreeEncoder(encoder_input_size, hidden_size, num_layers, [1, 2], attention=attention, use_embedding=use_embedding)\n",
    "    \n",
    "if attention:\n",
    "    decoder = MultilayerLSTMCell(embedding_size + hidden_size, hidden_size, num_layers)\n",
    "    program_model = TreeToSequenceAttention(encoder, decoder, hidden_size, nclass, embedding_size, alignment_size=alignment_size, align_type=align_type)\n",
    "else:\n",
    "    decoder = MultilayerLSTMCell(embedding_size, hidden_size, num_layers)\n",
    "    program_model = TreeToSequence(encoder, decoder, hidden_size, nclass, embedding_size)\n",
    "    \n",
    "reset_all_parameters_uniform(program_model, 0.1)\n",
    "encoder.initialize_forget_bias(3)\n",
    "decoder.initialize_forget_bias(3)"
   ]
  },
  {
   "cell_type": "code",
   "execution_count": null,
   "metadata": {},
   "outputs": [],
   "source": [
    "# program_model = program_model.cuda()"
   ]
  },
  {
   "cell_type": "code",
   "execution_count": null,
   "metadata": {
    "code_folding": [
     0,
     3
    ]
   },
   "outputs": [],
   "source": [
    "def program_accuracy(prediction, target):\n",
    "    return 1 if list(target.data) == prediction else 0\n",
    "\n",
    "def token_accuracy(prediction, target):\n",
    "    pass\n",
    "\n",
    "optimizer = optim.Adam(program_model.parameters(), lr=0.005)\n",
    "lr_scheduler = optim.lr_scheduler.ReduceLROnPlateau(optimizer, verbose=True, patience=100, factor=0.8)"
   ]
  },
  {
   "cell_type": "code",
   "execution_count": null,
   "metadata": {},
   "outputs": [],
   "source": [
    "model, train_loss, validation_loss = training.train_model_anc(program_model, for_lambda_dset, optimizer,\n",
    "                             lr_scheduler=lr_scheduler,\n",
    "                             num_epochs=10, validation_criterion=program_accuracy, batch_size=100,\n",
    "                             use_cuda=False, plateau_lr=True)"
   ]
  },
  {
   "cell_type": "code",
   "execution_count": null,
   "metadata": {},
   "outputs": [],
   "source": [
    "import importlib\n",
    "# importlib.reload(MultilayerLSTMCell)\n",
    "print(for_lambda_dset[0][1])"
   ]
  }
 ],
 "metadata": {
  "kernelspec": {
   "display_name": "Python 3",
   "language": "python",
   "name": "python3"
  },
  "language_info": {
   "codemirror_mode": {
    "name": "ipython",
    "version": 3
   },
   "file_extension": ".py",
   "mimetype": "text/x-python",
   "name": "python",
   "nbconvert_exporter": "python",
   "pygments_lexer": "ipython3",
   "version": "3.6.4"
  },
  "notify_time": "10"
 },
 "nbformat": 4,
 "nbformat_minor": 1
}
