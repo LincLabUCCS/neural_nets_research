{
 "cells": [
  {
   "cell_type": "code",
   "execution_count": 1,
   "metadata": {},
   "outputs": [
    {
     "name": "stdout",
     "output_type": "stream",
     "text": [
      "/home/mehdi2277/Documents/Programming/neural_nets_research\n"
     ]
    }
   ],
   "source": [
    "cd .."
   ]
  },
  {
   "cell_type": "code",
   "execution_count": 2,
   "metadata": {},
   "outputs": [],
   "source": [
    "import torch.optim as optim\n",
    "import torch.nn as nn\n",
    "\n",
    "from tree_to_sequence.program_datasets import *\n",
    "from tree_to_sequence.tree_to_sequence import TreeToSequence\n",
    "from tree_to_sequence.tree_to_sequence_attention import TreeToSequenceAttention\n",
    "from tree_to_sequence.tree_encoder import TreeEncoder\n",
    "from tree_to_sequence.sequence_encoder import SequenceEncoder\n",
    "from tree_to_sequence.multilayer_lstm_cell import MultilayerLSTMCell\n",
    "from neural_nets_library import training"
   ]
  },
  {
   "cell_type": "code",
   "execution_count": 3,
   "metadata": {
    "code_folding": []
   },
   "outputs": [],
   "source": [
    "num_vars = 10\n",
    "num_ints = 11\n",
    "input_as_seq = False\n",
    "output_as_seq = True\n",
    "one_hot = False\n",
    "binarize_input = True\n",
    "binarize_output = False\n",
    "eos_token = True\n",
    "long_base_case = True"
   ]
  },
  {
   "cell_type": "code",
   "execution_count": null,
   "metadata": {
    "code_folding": [],
    "pixiedust": {
     "displayParams": {}
    }
   },
   "outputs": [],
   "source": [
    "for_lambda_dset = ForLambdaDataset(\"ANC/VeryHard-arbitraryForList.json\", binarize=binarize, \n",
    "                                   eos_token=eos_token, one_hot=one_hot, \n",
    "for_lambda_dset = ForLambdaDataset(\"ANC/VeryHard-arbitraryForList.json\", binarize_input=binarize_input, \n",
    "                                   binarize_output=binarize_output, eos_token=eos_token, one_hot=one_hot, \n",
    "                                   long_base_case=long_base_case, input_as_seq=input_as_seq,\n",
    "                                   output_as_seq=output_as_seq)"
   ]
  },
  {
   "cell_type": "code",
   "execution_count": 5,
   "metadata": {},
   "outputs": [],
   "source": [
    "def reset_all_parameters_uniform(model, stdev):\n",
    "    for param in model.parameters():\n",
    "        nn.init.uniform_(param, -stdev, stdev)"
   ]
  },
  {
   "cell_type": "code",
   "execution_count": 6,
   "metadata": {
    "scrolled": true
   },
   "outputs": [],
   "source": [
    "embedding_size = 256\n",
    "hidden_size = 256\n",
    "nclass = num_vars + num_ints + len(lambda_ops.keys())\n",
    "num_layers = 1\n",
    "attention = True\n",
    "alignment_size = 50\n",
    "align_type = 1\n",
    "encoder_input_size = num_vars + num_ints + len(for_ops.keys())\n",
    "\n",
    "if input_as_seq:\n",
    "    encoder = SequenceEncoder(encoder_input_size, hidden_size, num_layers, attention=attention, one_hot=one_hot)\n",
    "else:\n",
    "    encoder = TreeEncoder(encoder_input_size, hidden_size, num_layers, [1, 2], attention=attention, one_hot=one_hot)\n",
    "    \n",
    "if attention:\n",
    "    decoder = MultilayerLSTMCell(embedding_size + hidden_size, hidden_size, num_layers)\n",
    "    program_model = TreeToSequenceAttention(encoder, decoder, hidden_size, nclass, embedding_size, alignment_size=alignment_size, align_type=align_type)\n",
    "else:\n",
    "    decoder = MultilayerLSTMCell(embedding_size, hidden_size, num_layers)\n",
    "    program_model = TreeToSequence(encoder, decoder, hidden_size, nclass, embedding_size)\n",
    "    \n",
    "reset_all_parameters_uniform(program_model, 0.1)\n",
    "encoder.initialize_forget_bias(3)\n",
    "decoder.initialize_forget_bias(3)"
   ]
  },
  {
   "cell_type": "code",
   "execution_count": null,
   "metadata": {},
   "outputs": [],
   "source": [
    "program_model = program_model.cuda()"
   ]
  },
  {
   "cell_type": "code",
   "execution_count": 14,
   "metadata": {
    "code_folding": []
   },
   "outputs": [],
   "source": [
    "def program_accuracy(prediction, target):\n",
    "    return 1 if target.tolist() == prediction else 0\n",
    "\n",
    "def token_accuracy(prediction, target):\n",
    "    pass\n",
    "\n",
    "optimizer = optim.Adam(program_model.parameters(), lr=0.005)\n",
    "lr_scheduler = optim.lr_scheduler.ReduceLROnPlateau(optimizer, verbose=True, patience=100, factor=0.8)"
   ]
  },
  {
   "cell_type": "code",
   "execution_count": 15,
   "metadata": {},
   "outputs": [
    {
     "name": "stdout",
     "output_type": "stream",
     "text": [
      "Epoch 0/9\n",
      "----------\n",
      "Epoch Number: 0, Batch Number: 200, Validation Metric: 0.1750\n",
      "Epoch Number: 0, Batch Number: 200, Training Loss: 8.2427\n",
      "Time so far is 0m 16s\n",
      "Epoch Number: 0, Batch Number: 400, Validation Metric: 0.1750\n",
      "Epoch Number: 0, Batch Number: 400, Training Loss: 5.8349\n",
      "Time so far is 0m 28s\n",
      "Epoch Number: 0, Batch Number: 600, Validation Metric: 0.1600\n",
      "Epoch Number: 0, Batch Number: 600, Training Loss: 4.2227\n",
      "Time so far is 0m 41s\n",
      "Epoch Number: 0, Batch Number: 800, Validation Metric: 0.2950\n",
      "Epoch Number: 0, Batch Number: 800, Training Loss: 3.4238\n",
      "Time so far is 0m 59s\n",
      "Epoch Number: 0, Batch Number: 1000, Validation Metric: 0.3050\n",
      "Epoch Number: 0, Batch Number: 1000, Training Loss: 3.3432\n",
      "Time so far is 1m 14s\n",
      "Epoch Number: 0, Batch Number: 1200, Validation Metric: 0.4050\n",
      "Epoch Number: 0, Batch Number: 1200, Training Loss: 2.9414\n",
      "Time so far is 1m 39s\n",
      "Epoch Number: 0, Batch Number: 1400, Validation Metric: 0.4000\n",
      "Epoch Number: 0, Batch Number: 1400, Training Loss: 2.6403\n",
      "Time so far is 1m 55s\n",
      "Epoch Number: 0, Batch Number: 1600, Validation Metric: 0.3700\n",
      "Epoch Number: 0, Batch Number: 1600, Training Loss: 2.5907\n",
      "Time so far is 2m 11s\n"
     ]
    },
    {
     "ename": "KeyboardInterrupt",
     "evalue": "",
     "output_type": "error",
     "traceback": [
      "\u001b[0;31m---------------------------------------------------------------------------\u001b[0m",
      "\u001b[0;31mKeyboardInterrupt\u001b[0m                         Traceback (most recent call last)",
      "\u001b[0;32m<ipython-input-15-e39e9e6bfd90>\u001b[0m in \u001b[0;36m<module>\u001b[0;34m()\u001b[0m\n\u001b[1;32m      2\u001b[0m                                                               \u001b[0mlr_scheduler\u001b[0m\u001b[0;34m=\u001b[0m\u001b[0mlr_scheduler\u001b[0m\u001b[0;34m,\u001b[0m \u001b[0mnum_epochs\u001b[0m\u001b[0;34m=\u001b[0m\u001b[0;36m10\u001b[0m\u001b[0;34m,\u001b[0m\u001b[0;34m\u001b[0m\u001b[0m\n\u001b[1;32m      3\u001b[0m                                                               \u001b[0mvalidation_criterion\u001b[0m\u001b[0;34m=\u001b[0m\u001b[0mprogram_accuracy\u001b[0m\u001b[0;34m,\u001b[0m \u001b[0mbatch_size\u001b[0m\u001b[0;34m=\u001b[0m\u001b[0;36m100\u001b[0m\u001b[0;34m,\u001b[0m\u001b[0;34m\u001b[0m\u001b[0m\n\u001b[0;32m----> 4\u001b[0;31m                                                               use_cuda=False, plateau_lr=True)\n\u001b[0m",
      "\u001b[0;32m~/Documents/Programming/neural_nets_research/neural_nets_library/training.py\u001b[0m in \u001b[0;36mtrain_model_anc\u001b[0;34m(model, dset_loader, optimizer, lr_scheduler, num_epochs, print_every, plot_every, validation_criterion, batch_size, deep_copy_desired, use_cuda, plateau_lr)\u001b[0m\n\u001b[1;32m    282\u001b[0m             \u001b[0;32mif\u001b[0m \u001b[0mtotal_batch_number\u001b[0m \u001b[0;34m%\u001b[0m \u001b[0mbatch_size\u001b[0m \u001b[0;34m==\u001b[0m \u001b[0;36m0\u001b[0m\u001b[0;34m:\u001b[0m\u001b[0;34m\u001b[0m\u001b[0m\n\u001b[1;32m    283\u001b[0m                 \u001b[0mloss\u001b[0m \u001b[0;34m/=\u001b[0m \u001b[0mbatch_size\u001b[0m\u001b[0;34m\u001b[0m\u001b[0m\n\u001b[0;32m--> 284\u001b[0;31m                 \u001b[0mloss\u001b[0m\u001b[0;34m.\u001b[0m\u001b[0mbackward\u001b[0m\u001b[0;34m(\u001b[0m\u001b[0;34m)\u001b[0m\u001b[0;34m\u001b[0m\u001b[0m\n\u001b[0m\u001b[1;32m    285\u001b[0m                 \u001b[0mclip_grads\u001b[0m\u001b[0;34m(\u001b[0m\u001b[0mmodel\u001b[0m\u001b[0;34m)\u001b[0m\u001b[0;34m\u001b[0m\u001b[0m\n\u001b[1;32m    286\u001b[0m                 \u001b[0moptimizer\u001b[0m\u001b[0;34m.\u001b[0m\u001b[0mstep\u001b[0m\u001b[0;34m(\u001b[0m\u001b[0;34m)\u001b[0m\u001b[0;34m\u001b[0m\u001b[0m\n",
      "\u001b[0;32m/usr/local/lib/python3.6/dist-packages/torch/tensor.py\u001b[0m in \u001b[0;36mbackward\u001b[0;34m(self, gradient, retain_graph, create_graph)\u001b[0m\n\u001b[1;32m     91\u001b[0m                 \u001b[0mproducts\u001b[0m\u001b[0;34m.\u001b[0m \u001b[0mDefaults\u001b[0m \u001b[0mto\u001b[0m\u001b[0;31m \u001b[0m\u001b[0;31m`\u001b[0m\u001b[0;31m`\u001b[0m\u001b[0;32mFalse\u001b[0m\u001b[0;31m`\u001b[0m\u001b[0;31m`\u001b[0m\u001b[0;34m.\u001b[0m\u001b[0;34m\u001b[0m\u001b[0m\n\u001b[1;32m     92\u001b[0m         \"\"\"\n\u001b[0;32m---> 93\u001b[0;31m         \u001b[0mtorch\u001b[0m\u001b[0;34m.\u001b[0m\u001b[0mautograd\u001b[0m\u001b[0;34m.\u001b[0m\u001b[0mbackward\u001b[0m\u001b[0;34m(\u001b[0m\u001b[0mself\u001b[0m\u001b[0;34m,\u001b[0m \u001b[0mgradient\u001b[0m\u001b[0;34m,\u001b[0m \u001b[0mretain_graph\u001b[0m\u001b[0;34m,\u001b[0m \u001b[0mcreate_graph\u001b[0m\u001b[0;34m)\u001b[0m\u001b[0;34m\u001b[0m\u001b[0m\n\u001b[0m\u001b[1;32m     94\u001b[0m \u001b[0;34m\u001b[0m\u001b[0m\n\u001b[1;32m     95\u001b[0m     \u001b[0;32mdef\u001b[0m \u001b[0mregister_hook\u001b[0m\u001b[0;34m(\u001b[0m\u001b[0mself\u001b[0m\u001b[0;34m,\u001b[0m \u001b[0mhook\u001b[0m\u001b[0;34m)\u001b[0m\u001b[0;34m:\u001b[0m\u001b[0;34m\u001b[0m\u001b[0m\n",
      "\u001b[0;32m/usr/local/lib/python3.6/dist-packages/torch/autograd/__init__.py\u001b[0m in \u001b[0;36mbackward\u001b[0;34m(tensors, grad_tensors, retain_graph, create_graph, grad_variables)\u001b[0m\n\u001b[1;32m     87\u001b[0m     Variable._execution_engine.run_backward(\n\u001b[1;32m     88\u001b[0m         \u001b[0mtensors\u001b[0m\u001b[0;34m,\u001b[0m \u001b[0mgrad_tensors\u001b[0m\u001b[0;34m,\u001b[0m \u001b[0mretain_graph\u001b[0m\u001b[0;34m,\u001b[0m \u001b[0mcreate_graph\u001b[0m\u001b[0;34m,\u001b[0m\u001b[0;34m\u001b[0m\u001b[0m\n\u001b[0;32m---> 89\u001b[0;31m         allow_unreachable=True)  # allow_unreachable flag\n\u001b[0m\u001b[1;32m     90\u001b[0m \u001b[0;34m\u001b[0m\u001b[0m\n\u001b[1;32m     91\u001b[0m \u001b[0;34m\u001b[0m\u001b[0m\n",
      "\u001b[0;31mKeyboardInterrupt\u001b[0m: "
     ]
    }
   ],
   "source": [
    "model, train_loss, validation_loss = training.train_model_anc(program_model, for_lambda_dset, optimizer,\n",
    "                                                              lr_scheduler=lr_scheduler, num_epochs=3, print_every=99999999,\n",
    "                                                              validation_criterion=program_accuracy, batch_size=100,\n",
    "                                                              use_cuda=True, plateau_lr=True, plot_every=100)"
   ]
  },
  {
   "cell_type": "code",
   "execution_count": null,
   "metadata": {},
   "outputs": [],
   "source": [
    "# train_plot_losses_old = train_plot_losses_old + train_plot_losses_new\n",
    "# validation_plot_losses_old = validation_plot_losses_old + validation_plot_losses_new\n",
    "\n",
    "import csv\n",
    "\n",
    "torch.save(program_model, \"t2s-normal-vars-model\")\n",
    "with open(\"t2s-normal-vars-train.txt\", \"w\") as output:\n",
    "    writer = csv.writer(output, lineterminator='\\n')\n",
    "    for val in train_plot_losses:\n",
    "        writer.writerow([val]) \n",
    "with open(\"t2s-normal-vars-validation.txt\", \"w\") as output:\n",
    "    writer = csv.writer(output, lineterminator='\\n')\n",
    "    for val in validation_plot_losses:\n",
    "        writer.writerow([val]) "
   ]
  }
 ],
 "metadata": {
  "kernelspec": {
   "display_name": "Python 3",
   "language": "python",
   "name": "python3"
  },
  "language_info": {
   "codemirror_mode": {
    "name": "ipython",
    "version": 3
   },
   "file_extension": ".py",
   "mimetype": "text/x-python",
   "name": "python",
   "nbconvert_exporter": "python",
   "pygments_lexer": "ipython3",
   "version": "3.6.5"
  },
  "notify_time": "10"
 },
 "nbformat": 4,
 "nbformat_minor": 1
}
