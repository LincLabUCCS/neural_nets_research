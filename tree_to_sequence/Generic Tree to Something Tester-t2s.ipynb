{
 "cells": [
  {
   "cell_type": "code",
   "execution_count": 1,
   "metadata": {},
   "outputs": [
    {
     "name": "stdout",
     "output_type": "stream",
     "text": [
      "/home/mehdi2277/Documents/HarveyMuddWork/Neural_Nets_Research/neural_nets_research\n"
     ]
    }
   ],
   "source": [
    "cd .. "
   ]
  },
  {
   "cell_type": "code",
   "execution_count": 14,
   "metadata": {},
   "outputs": [
    {
     "name": "stdout",
     "output_type": "stream",
     "text": [
      "done\n"
     ]
    }
   ],
   "source": [
    "# EDIT THESE FIELDS TO DETERMINE HOW MANY TRAINING RUNS WE DO FOR WHAT FILE\n",
    "training_rounds = 5\n",
    "decoder_type = \"sequence\"\n",
    "save_file = \"t2s_1\"\n",
    "which_cuda = 1\n",
    "print(\"done\")"
   ]
  },
  {
   "cell_type": "code",
   "execution_count": 3,
   "metadata": {},
   "outputs": [],
   "source": [
    "import torch.optim as optim\n",
    "import torch.nn as nn\n",
    "import torch\n",
    "import matplotlib.pyplot as plt\n",
    "import os\n",
    "\n",
    "from neural_nets_library import training\n",
    "from tree_to_sequence.tree_encoder import TreeEncoder\n",
    "from tree_to_sequence.tree_decoder import TreeDecoder\n",
    "from tree_to_sequence.tree_to_sequence_attention import TreeToSequenceAttention\n",
    "from tree_to_sequence.grammar_tree_decoder import GrammarTreeDecoder\n",
    "from tree_to_sequence.multilayer_lstm_cell import MultilayerLSTMCell\n",
    "from tree_to_sequence.program_datasets import *\n",
    "from tree_to_sequence.translating_trees import ( parent_to_category_FOR, category_to_child_FOR,\n",
    "                                                 category_to_child_LAMBDA, \n",
    "                                                 parent_to_category_LAMBDA, ForGrammar, For,\n",
    "                                                 LambdaGrammar, Lambda)\n",
    "from tree_to_sequence.tree_to_tree_attention import TreeToTreeAttention\n",
    "from functools import partial"
   ]
  },
  {
   "cell_type": "code",
   "execution_count": 4,
   "metadata": {},
   "outputs": [],
   "source": [
    "torch.cuda.set_device(which_cuda)"
   ]
  },
  {
   "cell_type": "code",
   "execution_count": 5,
   "metadata": {},
   "outputs": [],
   "source": [
    "# Counts the number of matches between the prediction and target.\n",
    "def count_matches(prediction, target):\n",
    "    matches = 0\n",
    "    if int(prediction.value) == int(target.value):\n",
    "        matches += 1\n",
    "    for i in range(min(len(target.children), len(prediction.children))):\n",
    "        matches += count_matches(prediction.children[i], target.children[i])\n",
    "    return matches\n",
    "\n",
    "# Program accuracy (1 if completely correct, 0 otherwise)\n",
    "def program_accuracy(prediction, target):\n",
    "    if decoder_type == \"sequence\":\n",
    "        return 1 if target.tolist() == prediction else 0\n",
    "    if prediction.size() == count_matches(prediction, target) and \\\n",
    "       prediction.size() == target.size():\n",
    "        return 1\n",
    "    else:\n",
    "        return 0\n",
    "\n",
    "# Calculate validation accuracy (this could either be program or token accuracy)\n",
    "def validation_criterion(prediction, target):\n",
    "    return program_accuracy(prediction, target)\n",
    "\n",
    "def reset_all_parameters_uniform(model, stdev):\n",
    "    for param in model.parameters():\n",
    "        nn.init.uniform_(param, -stdev, stdev)"
   ]
  },
  {
   "cell_type": "code",
   "execution_count": 7,
   "metadata": {},
   "outputs": [],
   "source": [
    "num_vars = 10\n",
    "num_ints = 11\n",
    "one_hot = False\n",
    "binarize_input = True\n",
    "binarize_output = False\n",
    "eos_token = (decoder_type != \"grammar\")\n",
    "long_base_case = True\n",
    "input_as_seq = False\n",
    "output_as_seq = (decoder_type == \"sequence\")\n",
    "use_cuda = True"
   ]
  },
  {
   "cell_type": "code",
   "execution_count": 8,
   "metadata": {},
   "outputs": [],
   "source": [
    "# Make dataset\n",
    "dset_train = ForLambdaDataset(\"ANC/training_For.json\",\n",
    "                                   binarize_input=binarize_input, binarize_output=binarize_output, \n",
    "                                   eos_token=eos_token, one_hot=one_hot,\n",
    "                                   num_ints=num_ints, num_vars=num_vars,\n",
    "                                   long_base_case=long_base_case, \n",
    "                                   input_as_seq=input_as_seq, \n",
    "                                   output_as_seq=output_as_seq)\n",
    "\n",
    "dset_val = ForLambdaDataset(\"ANC/validation_For.json\",\n",
    "                                   binarize_input=binarize_input, binarize_output=binarize_output, \n",
    "                                   eos_token=eos_token, one_hot=one_hot,\n",
    "                                   num_ints=num_ints, num_vars=num_vars,\n",
    "                                   long_base_case=long_base_case, \n",
    "                                   input_as_seq=input_as_seq, \n",
    "                                   output_as_seq=output_as_seq)\n",
    "\n",
    "dset_test = ForLambdaDataset(\"ANC/test_For.json\",\n",
    "                                   binarize_input=binarize_input, binarize_output=binarize_output, \n",
    "                                   eos_token=eos_token, one_hot=one_hot,\n",
    "                                   num_ints=num_ints, num_vars=num_vars,\n",
    "                                   long_base_case=long_base_case, \n",
    "                                   input_as_seq=input_as_seq, \n",
    "                                   output_as_seq=output_as_seq)"
   ]
  },
  {
   "cell_type": "code",
   "execution_count": 9,
   "metadata": {},
   "outputs": [],
   "source": [
    "max_size = int(max([len(x[1]) for x in dset_train] + [len(x[1]) for x in dset_val] + [len(x[1]) for x in dset_test]))\n",
    "\n",
    "embedding_size = 256\n",
    "hidden_size = 256\n",
    "num_layers = 1\n",
    "alignment_size = 50\n",
    "align_type = 1\n",
    "encoder_input_size = num_vars + num_ints + len(for_ops)\n",
    "nclass = num_vars + num_ints + len(lambda_ops)\n",
    "plot_every = 100\n",
    "num_categories = len(LambdaGrammar)\n",
    "num_possible_parents = len(Lambda)\n",
    "save_every=5000\n",
    "max_num_children = 2 if binarize else 4"
   ]
  },
  {
   "cell_type": "code",
   "execution_count": 10,
   "metadata": {},
   "outputs": [],
   "source": [
    "def save_plots():\n",
    "    # Save plots\n",
    "    plt.plot([x * plot_every for x in range(len(train_plot_losses))], train_plot_losses)\n",
    "    plt.plot([x * plot_every for x in range(len(val_plot_losses))], val_plot_losses)\n",
    "    plt.title(\"Training Loss\")\n",
    "    plt.xlabel('Training Examples')\n",
    "    plt.ylabel('Cross-Entropy Loss')\n",
    "    plt.legend((\"Train\", \"Validation\"))\n",
    "    plt.savefig(save_folder + \"/\" + save_file + \"_train_plot.png\")\n",
    "    plt.close()\n",
    "\n",
    "    plt.plot([x * plot_every for x in range(len(train_plot_accuracies))], train_plot_accuracies)\n",
    "    plt.plot([x * plot_every for x in range(len(val_plot_accuracies))], val_plot_accuracies)\n",
    "    plt.title(\"Training Program Accuracy\")\n",
    "    plt.xlabel('Training Examples')\n",
    "    plt.ylabel('Percent Accurate Programs')\n",
    "    plt.legend((\"Train\", \"Validation\"))\n",
    "    plt.savefig(save_folder + \"/\" + save_file + \"_accuracy_plot.png\")"
   ]
  },
  {
   "cell_type": "code",
   "execution_count": 11,
   "metadata": {},
   "outputs": [],
   "source": [
    "def save_test_accuracies():\n",
    "    with open(save_folder + \"/\" + save_file + \"_test.txt\", \"a\") as file:\n",
    "        for val in test_accuracies:\n",
    "            file.write(str(val) + \",\")"
   ]
  },
  {
   "cell_type": "code",
   "execution_count": 12,
   "metadata": {},
   "outputs": [],
   "source": [
    "def make_model():\n",
    "    encoder = TreeEncoder(encoder_input_size, hidden_size, num_layers, [1, 2, 3, 4, 5], attention=True, one_hot=one_hot)\n",
    "\n",
    "    if decoder_type == \"grammar\":\n",
    "        decoder = GrammarTreeDecoder(embedding_size, hidden_size, num_categories, \n",
    "                             num_possible_parents, \n",
    "                             partial(parent_to_category_LAMBDA, num_vars, num_ints), \n",
    "                             partial(category_to_child_LAMBDA, num_vars, num_ints), \n",
    "                             share_linear=True, share_lstm_cell=True, \n",
    "                             num_ints_vars=num_ints + num_vars)\n",
    "        \n",
    "        program_model = TreeToTreeAttention(encoder, decoder, \n",
    "                                        hidden_size, embedding_size, \n",
    "                                        nclass=nclass, root_value=nclass,\n",
    "                                        alignment_size=alignment_size, \n",
    "                                        align_type=align_type, max_size=max_size)\n",
    "        \n",
    "    elif decoder_type == \"tree\":\n",
    "        decoder = TreeDecoder(embedding_size, hidden_size, max_num_children, nclass=nclass)\n",
    "        \n",
    "        program_model = TreeToTreeAttention(encoder, decoder, \n",
    "                                        hidden_size, embedding_size, \n",
    "                                        nclass=nclass, root_value=nclass,\n",
    "                                        alignment_size=alignment_size, \n",
    "                                        align_type=align_type, max_size=max_size)\n",
    "        \n",
    "    elif decoder_type == \"sequence\":\n",
    "        decoder = MultilayerLSTMCell(embedding_size + hidden_size, hidden_size, num_layers)\n",
    "        \n",
    "        program_model = TreeToSequenceAttention(encoder, decoder, hidden_size, nclass, \n",
    "                                                embedding_size, alignment_size=alignment_size, \n",
    "                                                align_type=align_type)\n",
    "        \n",
    "    if use_cuda:\n",
    "        program_model = program_model.cuda()\n",
    "        \n",
    "    reset_all_parameters_uniform(program_model, 0.1)\n",
    "    encoder.initialize_forget_bias(3)\n",
    "    decoder.initialize_forget_bias(3)\n",
    "    \n",
    "    return program_model"
   ]
  },
  {
   "cell_type": "code",
   "execution_count": null,
   "metadata": {},
   "outputs": [
    {
     "name": "stdout",
     "output_type": "stream",
     "text": [
      "Epoch 0/4\n",
      "----------\n"
     ]
    }
   ],
   "source": [
    "test_accuracies = []\n",
    "program_model = make_model()\n",
    "save_folder = \"test_various_models\"\n",
    "\n",
    "# Optimizer\n",
    "optimizer = optim.Adam(program_model.parameters(), lr=0.005)\n",
    "lr_scheduler = optim.lr_scheduler.ReduceLROnPlateau(optimizer, verbose=True, patience=500, factor=0.8)\n",
    "\n",
    "# Train\n",
    "os.system(\"mkdir \"+ save_folder)\n",
    "best_model, train_plot_losses, train_plot_accuracies, val_plot_losses, val_plot_accuracies = training.train_model_tree_to_tree(\n",
    "                                program_model, \n",
    "                                dset_train, \n",
    "                                optimizer, \n",
    "                                lr_scheduler=lr_scheduler, \n",
    "                                num_epochs=5, plot_every=plot_every,\n",
    "                                batch_size=100, \n",
    "                                print_every=200, \n",
    "                                validation_dset = dset_val,                                                          \n",
    "                                validation_criterion=validation_criterion,\n",
    "                                use_cuda=use_cuda, \n",
    "                                deep_copy_desired=False,\n",
    "                                plateau_lr=True,\n",
    "                                save_file=save_file,\n",
    "                                save_folder=save_folder,\n",
    "                                save_every=save_every)\n",
    "\n",
    "# Test\n",
    "test_accuracy = training.test_model_tree_to_tree(best_model, dset_test, validation_criterion) #TODO: change where best_model is saved\n",
    "test_accuracies.append(test_accuracy)\n",
    "save_plots()\n",
    "    \n",
    "save_test_accuracies()"
   ]
  }
 ],
 "metadata": {
  "kernelspec": {
   "display_name": "Python 3",
   "language": "python",
   "name": "python3"
  },
  "language_info": {
   "codemirror_mode": {
    "name": "ipython",
    "version": 3
   },
   "file_extension": ".py",
   "mimetype": "text/x-python",
   "name": "python",
   "nbconvert_exporter": "python",
   "pygments_lexer": "ipython3",
   "version": "3.5.2"
  }
 },
 "nbformat": 4,
 "nbformat_minor": 2
}
