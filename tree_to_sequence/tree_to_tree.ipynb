{
 "cells": [
  {
   "cell_type": "code",
   "execution_count": null,
   "metadata": {},
   "outputs": [],
   "source": [
    "cd .."
   ]
  },
  {
   "cell_type": "code",
   "execution_count": null,
   "metadata": {},
   "outputs": [],
   "source": [
    "import torch.optim as optim\n",
    "import torch.nn as nn\n",
    "import torch\n",
    "import math\n",
    "import matplotlib.pyplot as plt\n",
    "\n",
    "from neural_nets_library import training\n",
    "from tree_to_sequence.tree_encoder import TreeEncoder\n",
    "from tree_to_sequence.tree_decoder import TreeDecoder\n",
    "from tree_to_sequence.grammar_tree_decoder import GrammarTreeDecoder\n",
    "from tree_to_sequence.program_datasets import IdentityTreeToTreeDataset\n",
    "from tree_to_sequence.program_datasets import ForLambdaDataset\n",
    "from tree_to_sequence.program_datasets import Const0\n",
    "from tree_to_sequence.translating_trees import pretty_print_tree\n",
    "from tree_to_sequence.translating_trees import parent_to_category_FOR\n",
    "from tree_to_sequence.translating_trees import category_to_child_FOR\n",
    "from tree_to_sequence.translating_trees import category_to_child_LAMBDA\n",
    "from tree_to_sequence.translating_trees import parent_to_category_LAMBDA\n",
    "from tree_to_sequence.translating_trees import ForGrammar\n",
    "from tree_to_sequence.translating_trees import For\n",
    "from tree_to_sequence.translating_trees import LambdaGrammar\n",
    "from tree_to_sequence.translating_trees import Lambda\n",
    "\n",
    "\n",
    "\n",
    "from tree_to_sequence.tree_to_tree import TreeToTree"
   ]
  },
  {
   "cell_type": "code",
   "execution_count": null,
   "metadata": {
    "code_folding": [
     3,
     19
    ]
   },
   "outputs": [],
   "source": [
    "num_vars = 10\n",
    "num_ints = 11\n",
    "\n",
    "for_ops = {\n",
    "    \"Var\": 0,\n",
    "    \"Const\": 1,\n",
    "    \"Plus\": 2,\n",
    "    \"Minus\": 3,\n",
    "    \"EqualFor\": 4,\n",
    "    \"LeFor\": 5,\n",
    "    \"GeFor\": 6,\n",
    "    \"Assign\": 7,\n",
    "    \"If\": 8,\n",
    "    \"Seq\": 9,\n",
    "    \"For\": 10\n",
    "}\n",
    "\n",
    "for_ops = {\"<\" + k.upper() + \">\": v for k,v in for_ops.items()}\n",
    "\n",
    "lambda_calculus_ops = {\n",
    "                \"<VARIABLE>\": 0,\n",
    "                \"<ABSTRACTION>\": 1,\n",
    "                \"<NUMBER>\": 2,\n",
    "                \"<BOOLEAN>\": 3,\n",
    "                \"<NIL>\": 4,\n",
    "                \"<IF>\": 5,\n",
    "                \"<CONS>\": 6,\n",
    "                \"<MATCH>\": 7,\n",
    "                \"<UNARYOPER>\": 8,\n",
    "                \"<BINARYOPER>\": 9,\n",
    "                \"<LET>\": 10,\n",
    "                \"<LETREC>\": 11,\n",
    "                \"<TRUE>\": 12,\n",
    "                \"<FALSE>\": 13,\n",
    "                \"<TINT>\": 14,\n",
    "                \"<TBOOL>\": 15,\n",
    "                \"<TINTLIST>\": 16,\n",
    "                \"<TFUN>\": 17,\n",
    "                \"<ARGUMENT>\": 18,\n",
    "                \"<NEG>\": 19,\n",
    "                \"<NOT>\": 20,\n",
    "                \"<PLUS>\": 21,\n",
    "                \"<MINUS>\": 22,\n",
    "                \"<TIMES>\": 23,\n",
    "                \"<DIVIDE>\": 24,\n",
    "                \"<AND>\": 25,\n",
    "                \"<OR>\": 26,\n",
    "                \"<EQUAL>\": 27,\n",
    "                \"<LESS>\": 28,\n",
    "                \"<APPLICATION>\": 29,\n",
    "                \"<HEAD>\": 30,\n",
    "                \"<TAIL>\": 31\n",
    "            }\n",
    "\n",
    "lambda_ops = {\n",
    "            \"<VAR>\": 0,\n",
    "            \"<CONST>\": 1,\n",
    "            \"<PLUS>\": 2,\n",
    "            \"<MINUS>\": 3,\n",
    "            \"<EQUAL>\": 4,\n",
    "            \"<LE>\": 5,\n",
    "            \"<GE>\": 6,\n",
    "            \"<IF>\": 7,\n",
    "            \"<LET>\": 8,\n",
    "            \"<UNIT>\": 9,\n",
    "            \"<LETREC>\": 10,\n",
    "            \"<APP>\": 11,\n",
    "        }"
   ]
  },
  {
   "cell_type": "code",
   "execution_count": null,
   "metadata": {
    "code_folding": [],
    "hide_input": false
   },
   "outputs": [],
   "source": [
    "use_embedding = True\n",
    "binarize = True\n",
    "eos_tokens = True\n",
    "long_base_case = True"
   ]
  },
  {
   "cell_type": "code",
   "execution_count": null,
   "metadata": {
    "code_folding": [],
    "hide_input": false,
    "scrolled": false
   },
   "outputs": [],
   "source": [
    "# identity_dset = IdentityTreeToTreeDataset(\"ANC/Easy-arbitraryForListWithOutput.json\", \n",
    "#                                       binarize=binarize, is_lambda_calculus=False, \n",
    "#                                       num_ints=num_ints, num_vars=num_vars,\n",
    "#                                       use_embedding=use_embedding, cuda=False)\n",
    "# print(len(identity_dset))\n",
    "for_lambda_dset = ForLambdaDataset(\"ANC/VeryHard-arbitraryForList.json\", binarize=binarize, \n",
    "                                   eos_tokens=eos_tokens, use_embedding=use_embedding, \n",
    "                                   long_base_case=long_base_case, input_as_seq=False, output_as_seq=False)\n",
    "print(len(for_lambda_dset))\n",
    "# Calculate max-size so we're sure it's good enough\n",
    "max_size = max([pair[1].size() for pair in for_lambda_dset])\n",
    "print(max_size)"
   ]
  },
  {
   "cell_type": "code",
   "execution_count": null,
   "metadata": {
    "code_folding": [
     0
    ]
   },
   "outputs": [],
   "source": [
    "def reset_all_parameters_uniform(model, stdev):\n",
    "    for param in model.parameters():\n",
    "        nn.init.uniform(param, -stdev, stdev)"
   ]
  },
  {
   "cell_type": "code",
   "execution_count": null,
   "metadata": {
    "scrolled": false
   },
   "outputs": [],
   "source": [
    "embedding_size = 256 #... 256 is from the paper, but 100 is WAY faster\n",
    "hidden_size = 256\n",
    "num_layers = 1\n",
    "alignment_size = 50\n",
    "align_type = 1\n",
    "encoder_input_size = num_vars + num_ints + len(for_ops) + 1\n",
    "encoder = TreeEncoder(encoder_input_size, hidden_size, num_layers, [1, 2], attention=True, use_embedding=use_embedding, dropout=0.5)\n",
    "nclass = num_vars + num_ints + len(lambda_ops)\n",
    "plot_every = 100\n",
    "max_num_children = 2\n",
    "\n",
    "# decoder = TreeDecoder(embedding_size, hidden_size, max_num_children)\n",
    "decoder = GrammarTreeDecoder(embedding_size, hidden_size, max_num_children, \n",
    "                             parent_to_category_LAMBDA, len(LambdaGrammar), category_to_child_LAMBDA,\n",
    "                            num_vars, num_ints, binarized=binarize)\n",
    "\n",
    "program_model = TreeToTree(encoder, decoder, hidden_size, embedding_size, nclass=nclass,\n",
    "                           alignment_size=alignment_size, align_type=align_type, max_size=max_size)\n",
    "    \n",
    "reset_all_parameters_uniform(program_model, 0.1)\n",
    "encoder.initialize_forget_bias(3)\n",
    "decoder.initialize_forget_bias(3)"
   ]
  },
  {
   "cell_type": "code",
   "execution_count": null,
   "metadata": {},
   "outputs": [],
   "source": [
    "program_model = program_model.cuda()"
   ]
  },
  {
   "cell_type": "code",
   "execution_count": null,
   "metadata": {
    "code_folding": [
     0
    ]
   },
   "outputs": [],
   "source": [
    "optimizer = optim.Adam(program_model.parameters(), lr=0.005)\n",
    "lr_scheduler = optim.lr_scheduler.ReduceLROnPlateau(optimizer, verbose=True, patience=500, factor=0.8)\n",
    "\n"
   ]
  },
  {
   "cell_type": "code",
   "execution_count": null,
   "metadata": {},
   "outputs": [],
   "source": [
    "# Token accuracy of the program\n",
    "def count_matches(prediction, target):\n",
    "    matches = 0\n",
    "    if int(prediction.value) == int(target.value):\n",
    "        matches = matches + 1\n",
    "    for i in range(min(len(target.children), len(prediction.children))):\n",
    "        matches = matches + count_matches(prediction.children[i], target.children[i])\n",
    "    size_diff = math.fabs(len(target.children) - len(prediction.children))\n",
    "    return matches - size_diff\n",
    "\n",
    "\n",
    "# Program accuracy (1 if completely correct, 0 otherwise)\n",
    "def all_matches(prediction, target):\n",
    "    # Nodes must have the same value\n",
    "    if not int(prediction.value) == int(target.value):\n",
    "        return 0\n",
    "    # ... and the same number of kids\n",
    "    if not len(prediction.children) == len(target.children):\n",
    "        return 0\n",
    "    n = len(prediction.children)\n",
    "    # ... and match perfectly for each kid\n",
    "    for i in range(n):\n",
    "        if all_matches(prediction.children[i], target.children[i]) == 0:\n",
    "            return 0\n",
    "    return 1\n",
    "\n",
    "# Calc validation accuracy (this could either be program or token accuracy)\n",
    "def validation_criterion(prediction, target):\n",
    "    return all_matches(prediction, target)"
   ]
  },
  {
   "cell_type": "code",
   "execution_count": null,
   "metadata": {
    "scrolled": false
   },
   "outputs": [],
   "source": [
    "\n",
    "best_model, train_plot_losses, validation_plot_losses = training.train_model_tree_to_tree(program_model, for_lambda_dset, \n",
    "                                 optimizer, lr_scheduler=None, num_epochs=1, plot_every=plot_every,\n",
    "                                 batch_size=100, print_every=200, validation_criterion=validation_criterion,\n",
    "                                 use_cuda=False) #TODO:  epochs=3\n",
    "\n"
   ]
  },
  {
   "cell_type": "code",
   "execution_count": null,
   "metadata": {},
   "outputs": [],
   "source": [
    "train_plot_losses_old = train_plot_losses\n",
    "validation_plot_losses_old = validation_plot_losses"
   ]
  },
  {
   "cell_type": "code",
   "execution_count": null,
   "metadata": {},
   "outputs": [],
   "source": [
    "#%debug\n",
    "plt.plot([x * plot_every for x in range(len(train_plot_losses_old +train_plot_losses))], train_plot_losses_old + train_plot_losses)\n",
    "plt.show()\n",
    "\n",
    "plt.plot([x * plot_every for x in range(len(validation_plot_losses_old + validation_plot_losses))], validation_plot_losses_old + validation_plot_losses)\n",
    "plt.show()"
   ]
  },
  {
   "cell_type": "code",
   "execution_count": null,
   "metadata": {},
   "outputs": [],
   "source": [
    "n = num_ints + num_vars\n",
    "\n",
    "# Check whether a node is syntactically valid, given its parent and index\n",
    "# Then recursively do it for all the node's children\n",
    "def check_valid(node, parent, child_index):\n",
    "    category = parent_to_category_LAMBDA(parent, child_index, num_vars, num_ints)\n",
    "    possible_outputs = category_to_child_LAMBDA(category, num_vars, num_ints)\n",
    "    if not int(node.value) in possible_outputs:\n",
    "        print(\"parent\", parent, \"child_index\", child_index)\n",
    "        print(\"ERROR\", int(node.value), category)\n",
    "        return False\n",
    "    if (len(node.children) > 0):\n",
    "        child1 = check_valid(node.children[0], int(node.value), 0)\n",
    "        if not child1:\n",
    "            return False\n",
    "        child2 = check_valid(node.children[1], parent, child_index + 1)\n",
    "        if not child2:\n",
    "            return False\n",
    "    return True\n",
    "\n",
    "# Check all the programs in a dataset for syntactic accuracy\n",
    "# (this is a debugging function used to double check the accuracy of your grammar)\n",
    "def check_all():\n",
    "    i = 0\n",
    "    # Check grammar is right\n",
    "    for prog in for_lambda_dset:\n",
    "        correct = check_valid(prog[1], None, 0)\n",
    "        if correct is False:\n",
    "            print(i)\n",
    "            pretty_print_tree(prog[1])\n",
    "            return\n",
    "        i += 1\n",
    "        \n",
    "        \n",
    "        \n",
    "check_all() #kangaroo"
   ]
  },
  {
   "cell_type": "code",
   "execution_count": null,
   "metadata": {
    "scrolled": false
   },
   "outputs": [],
   "source": [
    "from tree_to_sequence.translating_trees import *\n",
    "# pretty_print_tree(for_lambda_dset[1][1])\n",
    "import json\n",
    "progsjson = json.load(open(\"ANC/VeryHard-arbitraryForList.json\"))\n",
    "print(progsjson[3])\n",
    "for_prog = make_tree(progsjson[3], long_base_case=long_base_case)\n",
    "pretty_print_tree(for_prog)\n",
    "lambda_prog = translate_from_for(for_prog)\n",
    "pretty_print_tree(lambda_prog)\n",
    "binarized_lambda = binarize_tree(lambda_prog, add_eos=True)\n",
    "pretty_print_tree(binarized_lambda)\n",
    "\n",
    "def check_weirdness(prog):\n",
    "    for i in range(len(prog.children)):\n",
    "        if prog.children[i].value[0] == \"*\":\n",
    "            print(\"FOUND A STAR at index \", i)\n",
    "        check_weirdness(prog.children[i])\n",
    "        \n",
    "            \n",
    "check_weirdness(binarized_lambda)"
   ]
  },
  {
   "cell_type": "code",
   "execution_count": null,
   "metadata": {
    "scrolled": false
   },
   "outputs": [],
   "source": [
    "def print_stuff(node):\n",
    "    if int(node.value) == 29:\n",
    "        print(\"got one!\")\n",
    "        first_child = node.children[0]\n",
    "        second_child = first_child.children[1]\n",
    "        third_child = second_child.children[1]\n",
    "        fourth_child = third_child.children[1]\n",
    "        print(int(first_child.value), int(second_child.value), int(third_child.value), int(fourth_child.value))\n",
    "    for child in node.children:\n",
    "        print_stuff(child)\n",
    "        \n",
    "        \n",
    "print(int(Lambda.BLANK))\n",
    "print(category_to_child_LAMBDA(LambdaGrammar.VARUNITBLANK, num_vars, num_ints))\n",
    "print(num_vars)\n",
    "print(num_ints)\n",
    "\n",
    "\n",
    "# for prog in for_lambda_dset[10000:15000]:\n",
    "#     l = prog[1]\n",
    "#     print_stuff(l)\n",
    "    \n",
    "    #IDEA - blank counts as. a var\n",
    "    # Letrec first child is 34,12/13,28,32 = 12, a1/a2, 7, 11 = BLANK, a1/a2, IF, APP\n",
    "    # lec children: 33/21, 21/22/23/24/28/29/31,28/2930/32 = 12/0, 0,1,2,3,7,8,10,  7,8,10,12 = BLANK/VAR, VAR,CONST<PLUS<MINU<IFLETLETREC . .   if,let,letrec,blank"
   ]
  },
  {
   "cell_type": "code",
   "execution_count": null,
   "metadata": {},
   "outputs": [],
   "source": [
    "# torch.save(program_model, \"/tree_to_sequence/identity_grammar_t2t\")\n",
    "# import importlib\n",
    "# importlib.reload(ForLambdaDataset)\n",
    "\n",
    "# Check how many vars actually used\n",
    "def count_vars(prog):\n",
    "    x = int(prog.value)\n",
    "#     if x in range(num_ints, num_ints + num_vars):\n",
    "    if x in var_counter:\n",
    "        var_counter[x] = var_counter[x] + 1\n",
    "    else:\n",
    "        var_counter[x] = 1\n",
    "    for child in prog.children:\n",
    "        count_vars(child)\n",
    "\n",
    "\n",
    "var_counter = {}\n",
    "for prog in for_lambda_dset:\n",
    "    count_vars(prog[0])\n",
    "\n",
    "for key in var_counter.keys():\n",
    "    print(\"VAR\", key, \"COUNT\", var_counter[key])\n",
    "\n",
    "\n"
   ]
  },
  {
   "cell_type": "code",
   "execution_count": null,
   "metadata": {},
   "outputs": [],
   "source": [
    "var_counter = {}\n",
    "for prog in for_lambda_dset:\n",
    "    count_vars(prog[1])\n",
    "\n",
    "for key in var_counter.keys():\n",
    "    print(\"VAR\", key, \"COUNT\", var_counter[key])\n",
    "\n",
    "\n"
   ]
  },
  {
   "cell_type": "code",
   "execution_count": null,
   "metadata": {},
   "outputs": [],
   "source": [
    "# torch.save(program_model, \"saved_models/t2t_grammar\")\n",
    "\n",
    "print(\"VAR SHOULD BE: \", Lambda.CONST + num_ints + num_vars)\n",
    "\n",
    "def check_weirdness(prog, parent):\n",
    "    x = int(prog.value)\n",
    "    if x in range(num_ints) and not parent == Lambda.CONST + num_ints + num_vars:\n",
    "        return True\n",
    "    weirdness = False\n",
    "    for child in prog.children:\n",
    "        weirdness = weirdness or check_weirdness(child, x)\n",
    "    return weirdness\n",
    "\n",
    "for prog in for_lambda_dset:\n",
    "    if check_weirdness(prog[1], None):\n",
    "        pretty_print_tree(prog[1])"
   ]
  },
  {
   "cell_type": "code",
   "execution_count": null,
   "metadata": {},
   "outputs": [],
   "source": [
    "# Check binarize\n",
    "# Get a single program\n",
    "# Print out the before and after\n",
    "from pptree import *\n",
    "\n",
    "class Employee:\n",
    "\n",
    "    def __init__(self, fullname, function, head=None):\n",
    "        self.fullname = fullname\n",
    "        self.function = function\n",
    "        self.team = []\n",
    "        if head:\n",
    "            head.team.append(self)\n",
    "\n",
    "    def __str__(self):\n",
    "        return self.function\n",
    "\n",
    "jean = Employee(\"Jean Dupont\", \"CEO\")\n",
    "isabelle = Employee(\"Isabelle Leblanc\", \"Sales\", jean)\n",
    "enzo = Employee(\"Enzo Riviera\", \"Technology\", jean)\n",
    "lola = Employee(\"Lola Monet\", \"RH\", jean)\n",
    "kevin = Employee(\"Kevin Perez\", \"Developer\", enzo)\n",
    "lydia = Employee(\"Lydia Petit\", \"Tester\", enzo)\n",
    "\n",
    "print([employee.fullname for employee in jean.team])\n",
    "print_tree(jean, \"team\", \"fullname\")"
   ]
  }
 ],
 "metadata": {
  "kernelspec": {
   "display_name": "Python 3",
   "language": "python",
   "name": "python3"
  },
  "language_info": {
   "codemirror_mode": {
    "name": "ipython",
    "version": 3
   },
   "file_extension": ".py",
   "mimetype": "text/x-python",
   "name": "python",
   "nbconvert_exporter": "python",
   "pygments_lexer": "ipython3",
   "version": "3.5.2"
  },
  "notify_time": "10"
 },
 "nbformat": 4,
 "nbformat_minor": 1
}
