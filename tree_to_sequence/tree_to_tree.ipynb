{
 "cells": [
  {
   "cell_type": "code",
   "execution_count": null,
   "metadata": {},
   "outputs": [],
   "source": [
    "cd .."
   ]
  },
  {
   "cell_type": "code",
   "execution_count": null,
   "metadata": {},
   "outputs": [],
   "source": [
    "import torch.optim as optim\n",
    "import torch.nn as nn\n",
    "import torch\n",
    "\n",
    "from neural_nets_library import training\n",
    "from tree_to_sequence.tree_encoder import TreeEncoder\n",
    "from tree_to_sequence.tree_decoder import TreeDecoder\n",
    "from tree_to_sequence.program_datasets import IdentityTreeToTreeDataset\n",
    "from tree_to_sequence.tree_to_tree import TreeToTree\n",
    "\n"
   ]
  },
  {
   "cell_type": "code",
   "execution_count": null,
   "metadata": {
    "code_folding": [
     3,
     19
    ]
   },
   "outputs": [],
   "source": [
    "num_vars = 10\n",
    "num_ints = 11\n",
    "\n",
    "for_ops = {\n",
    "    \"Var\": 0,\n",
    "    \"Const\": 1,\n",
    "    \"Plus\": 2,\n",
    "    \"Minus\": 3,\n",
    "    \"EqualFor\": 4,\n",
    "    \"LeFor\": 5,\n",
    "    \"GeFor\": 6,\n",
    "    \"Assign\": 7,\n",
    "    \"If\": 8,\n",
    "    \"Seq\": 9,\n",
    "    \"For\": 10\n",
    "}\n",
    "\n",
    "for_ops = {\"<\" + k.upper() + \">\": v for k,v in for_ops.items()}\n",
    "\n",
    "lambda_calculus_ops = {\n",
    "                \"<VARIABLE>\": 0,\n",
    "                \"<ABSTRACTION>\": 1,\n",
    "                \"<NUMBER>\": 2,\n",
    "                \"<BOOLEAN>\": 3,\n",
    "                \"<NIL>\": 4,\n",
    "                \"<IF>\": 5,\n",
    "                \"<CONS>\": 6,\n",
    "                \"<MATCH>\": 7,\n",
    "                \"<UNARYOPER>\": 8,\n",
    "                \"<BINARYOPER>\": 9,\n",
    "                \"<LET>\": 10,\n",
    "                \"<LETREC>\": 11,\n",
    "                \"<TRUE>\": 12,\n",
    "                \"<FALSE>\": 13,\n",
    "                \"<TINT>\": 14,\n",
    "                \"<TBOOL>\": 15,\n",
    "                \"<TINTLIST>\": 16,\n",
    "                \"<TFUN>\": 17,\n",
    "                \"<ARGUMENT>\": 18,\n",
    "                \"<NEG>\": 19,\n",
    "                \"<NOT>\": 20,\n",
    "                \"<PLUS>\": 21,\n",
    "                \"<MINUS>\": 22,\n",
    "                \"<TIMES>\": 23,\n",
    "                \"<DIVIDE>\": 24,\n",
    "                \"<AND>\": 25,\n",
    "                \"<OR>\": 26,\n",
    "                \"<EQUAL>\": 27,\n",
    "                \"<LESS>\": 28,\n",
    "                \"<APPLICATION>\": 29,\n",
    "                \"<HEAD>\": 30,\n",
    "                \"<TAIL>\": 31\n",
    "            }"
   ]
  },
  {
   "cell_type": "code",
   "execution_count": null,
   "metadata": {
    "code_folding": [],
    "hide_input": false
   },
   "outputs": [],
   "source": [
    "use_embedding = True\n",
    "binarize = True\n",
    "num_ints = 5\n",
    "num_vars = len(for_ops)"
   ]
  },
  {
   "cell_type": "code",
   "execution_count": null,
   "metadata": {
    "code_folding": [],
    "hide_input": false
   },
   "outputs": [],
   "source": [
    "identity_dset = IdentityTreeToTreeDataset(\"ANC/Easy-arbitraryForListWithOutput.json\", \n",
    "                                      binarize=binarize, is_lambda_calculus=False, \n",
    "                                      num_ints=num_ints, num_vars=num_vars,\n",
    "                                      use_embedding=use_embedding, cuda=False)\n"
   ]
  },
  {
   "cell_type": "code",
   "execution_count": null,
   "metadata": {
    "code_folding": [
     0
    ]
   },
   "outputs": [],
   "source": [
    "def reset_all_parameters_uniform(model, stdev):\n",
    "    for param in model.parameters():\n",
    "        nn.init.uniform(param, -stdev, stdev)"
   ]
  },
  {
   "cell_type": "code",
   "execution_count": null,
   "metadata": {
    "scrolled": true
   },
   "outputs": [],
   "source": [
    "embedding_size = 30\n",
    "hidden_size = 40\n",
    "num_layers = 1\n",
    "alignment_size = 50\n",
    "align_type = 1\n",
    "encoder_input_size = num_vars + num_ints + len(for_ops.keys())\n",
    "encoder = TreeEncoder(encoder_input_size, hidden_size, num_layers, [1, 2], attention=True, use_embedding=use_embedding)\n",
    "\n",
    "max_num_children = 2\n",
    "\n",
    "decoder = TreeDecoder(embedding_size, hidden_size, max_num_children, for_ops, align_type=align_type)\n",
    "program_model = TreeToTree(encoder, decoder, hidden_size, embedding_size, \n",
    "                           alignment_size=alignment_size, align_type=align_type)\n",
    "    \n",
    "reset_all_parameters_uniform(program_model, 0.1)\n",
    "encoder.initialize_forget_bias(3)\n",
    "decoder.initialize_forget_bias(3)"
   ]
  },
  {
   "cell_type": "code",
   "execution_count": null,
   "metadata": {},
   "outputs": [],
   "source": [
    "#program_model = program_model.cuda()"
   ]
  },
  {
   "cell_type": "code",
   "execution_count": null,
   "metadata": {
    "code_folding": [
     0
    ]
   },
   "outputs": [],
   "source": [
    "optimizer = optim.Adam(program_model.parameters(), lr=0.005)\n",
    "lr_scheduler = optim.lr_scheduler.ReduceLROnPlateau(optimizer, verbose=True, patience=100, factor=0.8)"
   ]
  },
  {
   "cell_type": "code",
   "execution_count": null,
   "metadata": {},
   "outputs": [],
   "source": [
    "training.train_model_tree_to_tree(program_model, identity_dset, \n",
    "                                 optimizer, lr_scheduler=lr_scheduler, num_epochs=3, \n",
    "                                 batch_size=100, plateau_lr=True, print_every=100,\n",
    "                                 use_cuda=False)"
   ]
  }
 ],
 "metadata": {
  "kernelspec": {
   "display_name": "Python 3",
   "language": "python",
   "name": "python3"
  },
  "language_info": {
   "codemirror_mode": {
    "name": "ipython",
    "version": 3
   },
   "file_extension": ".py",
   "mimetype": "text/x-python",
   "name": "python",
   "nbconvert_exporter": "python",
   "pygments_lexer": "ipython3",
   "version": "3.6.4"
  },
  "notify_time": "10"
 },
 "nbformat": 4,
 "nbformat_minor": 1
}
