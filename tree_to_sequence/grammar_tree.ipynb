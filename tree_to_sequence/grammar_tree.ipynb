{
 "cells": [
  {
   "cell_type": "code",
   "execution_count": 1,
   "metadata": {},
   "outputs": [
    {
     "name": "stdout",
     "output_type": "stream",
     "text": [
      "/home/mehdi2277/Documents/Programming/neural_nets_research\n"
     ]
    }
   ],
   "source": [
    "cd .. "
   ]
  },
  {
   "cell_type": "code",
   "execution_count": 2,
   "metadata": {},
   "outputs": [],
   "source": [
    "import torch.optim as optim\n",
    "import torch.nn as nn\n",
    "import torch\n",
    "import matplotlib.pyplot as plt\n",
    "import os\n",
    "\n",
    "from neural_nets_library import training\n",
    "from tree_to_sequence.tree_encoder import TreeEncoder\n",
    "from tree_to_sequence.tree_decoder import TreeDecoder\n",
    "from tree_to_sequence.grammar_tree_decoder import GrammarTreeDecoder\n",
    "from tree_to_sequence.program_datasets import *\n",
    "from tree_to_sequence.translating_trees import ( parent_to_category_FOR, category_to_child_FOR,\n",
    "                                                 category_to_child_LAMBDA, \n",
    "                                                 parent_to_category_LAMBDA, ForGrammar, For,\n",
    "                                                 LambdaGrammar, Lambda)\n",
    "from tree_to_sequence.tree_to_tree_attention import TreeToTreeAttention\n",
    "from functools import partial"
   ]
  },
  {
   "cell_type": "code",
   "execution_count": 3,
   "metadata": {},
   "outputs": [
    {
     "ename": "AttributeError",
     "evalue": "module 'torch._C' has no attribute '_cuda_setDevice'",
     "output_type": "error",
     "traceback": [
      "\u001b[0;31m---------------------------------------------------------------------------\u001b[0m",
      "\u001b[0;31mAttributeError\u001b[0m                            Traceback (most recent call last)",
      "\u001b[0;32m<ipython-input-3-dfa008bf10de>\u001b[0m in \u001b[0;36m<module>\u001b[0;34m()\u001b[0m\n\u001b[0;32m----> 1\u001b[0;31m \u001b[0mtorch\u001b[0m\u001b[0;34m.\u001b[0m\u001b[0mcuda\u001b[0m\u001b[0;34m.\u001b[0m\u001b[0mset_device\u001b[0m\u001b[0;34m(\u001b[0m\u001b[0;36m1\u001b[0m\u001b[0;34m)\u001b[0m\u001b[0;34m\u001b[0m\u001b[0m\n\u001b[0m",
      "\u001b[0;32m/usr/local/lib/python3.6/dist-packages/torch/cuda/__init__.py\u001b[0m in \u001b[0;36mset_device\u001b[0;34m(device)\u001b[0m\n\u001b[1;32m    260\u001b[0m     \"\"\"\n\u001b[1;32m    261\u001b[0m     \u001b[0;32mif\u001b[0m \u001b[0mdevice\u001b[0m \u001b[0;34m>=\u001b[0m \u001b[0;36m0\u001b[0m\u001b[0;34m:\u001b[0m\u001b[0;34m\u001b[0m\u001b[0m\n\u001b[0;32m--> 262\u001b[0;31m         \u001b[0mtorch\u001b[0m\u001b[0;34m.\u001b[0m\u001b[0m_C\u001b[0m\u001b[0;34m.\u001b[0m\u001b[0m_cuda_setDevice\u001b[0m\u001b[0;34m(\u001b[0m\u001b[0mdevice\u001b[0m\u001b[0;34m)\u001b[0m\u001b[0;34m\u001b[0m\u001b[0m\n\u001b[0m\u001b[1;32m    263\u001b[0m \u001b[0;34m\u001b[0m\u001b[0m\n\u001b[1;32m    264\u001b[0m \u001b[0;34m\u001b[0m\u001b[0m\n",
      "\u001b[0;31mAttributeError\u001b[0m: module 'torch._C' has no attribute '_cuda_setDevice'"
     ]
    }
   ],
   "source": [
    "# torch.cuda.set_device(1)"
   ]
  },
  {
   "cell_type": "code",
   "execution_count": 6,
   "metadata": {
    "code_folding": [],
    "hide_input": false
   },
   "outputs": [],
   "source": [
    "num_vars = 10\n",
    "num_ints = 11\n",
    "one_hot = False\n",
    "binarize_input = True\n",
    "binarize_output = False\n",
    "eos_token = False\n",
    "long_base_case = True\n",
    "input_as_seq = False\n",
    "output_as_seq = False"
   ]
  },
  {
   "cell_type": "code",
   "execution_count": null,
   "metadata": {
    "code_folding": [],
    "hide_input": false,
    "scrolled": true
   },
   "outputs": [],
   "source": [
<<<<<<< HEAD
    "for_lambda_dset = ForLambdaDataset(\"ANC/VeryHard-arbitraryForList.json\", binarize_input=binarize, binarize_output=False, \n",
    "                                   eos_token=eos_token, one_hot=one_hot, num_ints=num_ints, num_vars=num_vars,\n",
=======
    "for_lambda_dset = ForLambdaDataset(\"ANC/VeryHard-arbitraryForList.json\", \n",
    "                                   binarize_input=binarize_input, binarize_output=binarize_output, \n",
    "                                   eos_token=eos_token, one_hot=one_hot, \n",
>>>>>>> 145b88d18847ffc68a65b70cac80841aaceb1a80
    "                                   long_base_case=long_base_case, input_as_seq=input_as_seq, \n",
    "                                   output_as_seq=output_as_seq)\n",
    "max_size = max([x[1].size() for x in for_lambda_dset])"
   ]
  },
  {
   "cell_type": "code",
   "execution_count": null,
   "metadata": {
    "code_folding": []
   },
   "outputs": [],
   "source": [
    "def reset_all_parameters_uniform(model, stdev):\n",
    "    for param in model.parameters():\n",
    "        nn.init.uniform_(param, -stdev, stdev)"
   ]
  },
  {
   "cell_type": "code",
   "execution_count": null,
   "metadata": {
    "scrolled": false
   },
   "outputs": [],
   "source": [
    "embedding_size = 256 #... 256 is from the paper, but 100 is WAY faster\n",
    "hidden_size = 256\n",
    "num_layers = 1\n",
    "alignment_size = 50\n",
    "align_type = 1\n",
    "eos_bonus = 1 if eos_token else 0\n",
    "encoder_input_size = num_vars + num_ints + len(for_ops) + eos_bonus\n",
    "encoder = TreeEncoder(encoder_input_size, hidden_size, num_layers, [1, 2, 3, 4, 5], attention=True, one_hot=one_hot)\n",
    "nclass = num_vars + num_ints + len(lambda_ops)\n",
    "plot_every = 10\n",
    "num_categories = len(LambdaGrammar)\n",
    "num_possible_parents = len(Lambda)\n",
    "save_file=\"test_save_file\"\n",
    "save_folder=\"test_save_folder\"\n",
    "save_every=20\n",
    "\n",
    "decoder = GrammarTreeDecoder(embedding_size, hidden_size, num_categories, num_possible_parents, \n",
    "                             partial(parent_to_category_LAMBDA, num_vars, num_ints), \n",
    "                             partial(category_to_child_LAMBDA, num_vars, num_ints), \n",
    "                             share_linear=False, share_lstm_cell=False, num_ints_vars=num_ints + num_vars)\n",
    "program_model = TreeToTreeAttention(encoder, decoder, hidden_size, embedding_size, nclass=nclass, root_value=nclass,\n",
    "                                    alignment_size=alignment_size, align_type=align_type, max_size=max_size)\n",
    "    \n",
    "reset_all_parameters_uniform(program_model, 0.1)\n",
    "encoder.initialize_forget_bias(3)\n",
    "decoder.initialize_forget_bias(3)"
   ]
  },
  {
   "cell_type": "code",
   "execution_count": null,
   "metadata": {},
   "outputs": [],
   "source": [
    "program_model = program_model.cuda()"
   ]
  },
  {
   "cell_type": "code",
   "execution_count": null,
   "metadata": {
    "code_folding": [
     0
    ]
   },
   "outputs": [],
   "source": [
    "optimizer = optim.Adam(program_model.parameters(), lr=0.005)\n",
    "lr_scheduler = optim.lr_scheduler.ReduceLROnPlateau(optimizer, verbose=True, patience=500, factor=0.8)"
   ]
  },
  {
   "cell_type": "code",
   "execution_count": null,
   "metadata": {},
   "outputs": [],
   "source": [
    "# Counts the number of matches between the prediction and target.\n",
    "def count_matches(prediction, target):\n",
    "    matches = 0\n",
    "    if int(prediction.value) == int(target.value):\n",
    "        matches += 1\n",
    "    for i in range(min(len(target.children), len(prediction.children))):\n",
    "        matches += count_matches(prediction.children[i], target.children[i])\n",
    "    return matches\n",
    "\n",
    "# Program accuracy (1 if completely correct, 0 otherwise)\n",
    "def program_accuracy(prediction, target):\n",
    "    if prediction.size() == count_matches(prediction, target) and \\\n",
    "       prediction.size() == target.size():\n",
    "        return 1\n",
    "    else:\n",
    "        return 0\n",
    "\n",
    "# Calculate validation accuracy (this could either be program or token accuracy)\n",
    "def validation_criterion(prediction, target):\n",
    "    return program_accuracy(prediction, target)"
   ]
  },
  {
   "cell_type": "code",
   "execution_count": null,
   "metadata": {
    "pixiedust": {
     "displayParams": {}
    },
    "scrolled": true
   },
   "outputs": [],
   "source": [
    "os.system(\"mkdir \"+ save_folder)\n",
    "best_model, train_plot_losses, validation_plot_losses = training.train_model_tree_to_tree(program_model, for_lambda_dset, \n",
<<<<<<< HEAD
    "                                optimizer, \n",
    "                                lr_scheduler=lr_scheduler, \n",
    "                                num_epochs=1, plot_every=plot_every,\n",
    "                                batch_size=100, \n",
    "                                print_every=200, \n",
    "                                validation_criterion=validation_criterion,\n",
    "                                use_cuda=True, \n",
    "                                deep_copy_desired=False,\n",
    "                                plateau_lr=True,\n",
    "                                save_file=save_file,\n",
    "                                save_folder=save_folder,\n",
    "                                save_every=save_every)"
=======
    "                                 optimizer, lr_scheduler=None, num_epochs=10, plot_every=plot_every,\n",
    "                                 batch_size=100, print_every=400, validation_criterion=validation_criterion,\n",
    "                                 use_cuda=False)"
>>>>>>> 145b88d18847ffc68a65b70cac80841aaceb1a80
   ]
  },
  {
   "cell_type": "code",
   "execution_count": null,
   "metadata": {},
   "outputs": [],
   "source": [
    "plt.plot([x * plot_every for x in range(len(train_plot_losses))], train_plot_losses)\n",
    "plt.title(\"Training Loss\")\n",
    "plt.xlabel('Training Examples')\n",
    "plt.ylabel('Cross-Entropy Loss')\n",
    "plt.savefig(save_folder + \"/\" + save_file + \"_train_plot.png\")\n",
    "plt.close()\n",
    "\n",
    "plt.plot([x * plot_every for x in range(len(validation_plot_losses))], validation_plot_losses)\n",
<<<<<<< HEAD
    "plt.title(\"Training Program Accuracy\")\n",
    "plt.xlabel('Training Examples')\n",
    "plt.ylabel('Percent Accurate Programs')\n",
    "plt.savefig(save_folder + \"/\" + save_file + \"_accuracy_plot.png\")"
=======
    "plt.show()"
   ]
  },
  {
   "cell_type": "code",
   "execution_count": null,
   "metadata": {},
   "outputs": [],
   "source": [
    "plt.plot([x * plot_every for x in range(len(train_plot_losses))], train_plot_losses)\n",
    "plt.show()\n",
    "\n",
    "plt.plot([x * plot_every for x in range(len(validation_plot_losses))], validation_plot_losses)\n",
    "plt.show()"
   ]
  },
  {
   "cell_type": "code",
   "execution_count": null,
   "metadata": {},
   "outputs": [],
   "source": [
    "# n = num_ints + num_vars\n",
    "# print(num_vars)\n",
    "# print(num_ints)\n",
    "\n",
    "# def check_all():\n",
    "#     i = 0\n",
    "#     # Check grammar is right\n",
    "#     for prog in for_lambda_dset:\n",
    "#         correct = check_valid(prog[1], -1, 0)\n",
    "#         if correct is False:\n",
    "#             print(i)\n",
    "#             pretty_print_tree(prog[1])\n",
    "#             return\n",
    "#         i += 1\n",
    "\n",
    "# # BINARIZED TREE VERSION\n",
    "# # Check whether a node is syntactically valid, given its parent and index\n",
    "# # Then recursively do it for all the node's children\n",
    "# # def check_valid(node, parent, child_index):\n",
    "# #     print(\"STUFF\", parent, num_vars, num_ints)\n",
    "# #     category = parent_to_category_LAMBDA(num_vars, num_ints, parent)[child_index]\n",
    "# #     possible_outputs = category_to_child_LAMBDA(num_vars, num_ints, category)\n",
    "# #     if not int(node.value) in possible_outputs:\n",
    "# #         print(\"parent\", parent, \"child_index\", child_index)\n",
    "# #         print(\"ERROR\", int(node.value), category)\n",
    "# #         return False\n",
    "# #     if (len(node.children) > 0):\n",
    "# #         child1 = check_valid(node.children[0], int(node.value), 0)\n",
    "# #         if not child1:\n",
    "# #             return False\n",
    "# #         child2 = check_valid(node.children[1], parent, child_index + 1)\n",
    "# #         if not child2:\n",
    "# #             return False\n",
    "# #     return True\n",
    "\n",
    "# # Check all the programs in a dataset for syntactic accuracy\n",
    "# # (this is a debugging function used to double check the accuracy of your grammar)\n",
    "\n",
    "\n",
    "# # Check whether a node is syntactically valid, given its parent and index\n",
    "# # Then recursively do it for all the node's children\n",
    "# def check_valid(node, parent, child_index):\n",
    "#     try:\n",
    "#         category = parent_to_category_LAMBDA(num_vars, num_ints, parent)[child_index]\n",
    "#     except:\n",
    "#         print(\"AAA\", parent, child_index, node.value)\n",
    "#     possible_outputs = category_to_child_LAMBDA(num_vars, num_ints, category)\n",
    "#     if not int(node.value) in possible_outputs:\n",
    "#         print(\"parent\", parent, \"child_index\", child_index)\n",
    "#         print(\"ERROR\", int(node.value), category)\n",
    "#         return False\n",
    "#     for i in range(len(node.children)):\n",
    "#         if not check_valid(node.children[i], int(node.value), i):\n",
    "#             return False\n",
    "#     return True\n",
    "\n",
    "# # Check all the programs in a dataset for syntactic accuracy\n",
    "# # (this is a debugging function used to double check the accuracy of your grammar)\n",
    "# def check_all():\n",
    "#     i = 0\n",
    "#     # Check grammar is right\n",
    "#     for prog in for_lambda_dset:\n",
    "#         correct = check_valid(prog[1], -1, 0)\n",
    "#         if correct is False:\n",
    "#             print(i)\n",
    "#             pretty_print_tree(prog[1])\n",
    "#             return\n",
    "#         i += 1\n",
    "        \n",
    "        \n",
    "        \n",
    "# check_all() #kangaroo\n",
    "# print(\"all good\")"
>>>>>>> 145b88d18847ffc68a65b70cac80841aaceb1a80
   ]
  }
 ],
 "metadata": {
  "kernelspec": {
   "display_name": "Python 3",
   "language": "python",
   "name": "python3"
  },
  "language_info": {
   "codemirror_mode": {
    "name": "ipython",
    "version": 3
   },
   "file_extension": ".py",
   "mimetype": "text/x-python",
   "name": "python",
   "nbconvert_exporter": "python",
   "pygments_lexer": "ipython3",
   "version": "3.6.5"
  },
  "notify_time": "10"
 },
 "nbformat": 4,
 "nbformat_minor": 1
}
