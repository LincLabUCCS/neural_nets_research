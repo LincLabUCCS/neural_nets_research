{
 "cells": [
  {
   "cell_type": "code",
   "execution_count": 1,
   "metadata": {},
   "outputs": [
    {
     "name": "stdout",
     "output_type": "stream",
     "text": [
      "/home/mehdi2277/Documents/Programming/neural_nets_research\n"
     ]
    }
   ],
   "source": [
    "cd .."
   ]
  },
  {
   "cell_type": "code",
   "execution_count": 2,
   "metadata": {},
   "outputs": [],
   "source": [
    "import torch.optim as optim\n",
    "import torch.nn as nn\n",
    "import torch\n",
    "import matplotlib.pyplot as plt\n",
    "\n",
    "from neural_nets_library import training\n",
    "from tree_to_sequence.tree_encoder import TreeEncoder\n",
    "from tree_to_sequence.tree_decoder import TreeDecoder\n",
    "from tree_to_sequence.grammar_tree_decoder import GrammarTreeDecoder\n",
    "from tree_to_sequence.program_datasets import *\n",
    "from tree_to_sequence.translating_trees import ( parent_to_category_FOR, category_to_child_FOR,\n",
    "                                                 category_to_child_LAMBDA, \n",
    "                                                 parent_to_category_LAMBDA, ForGrammar, For,\n",
    "                                                 LambdaGrammar, Lambda)\n",
    "from tree_to_sequence.tree_to_tree_attention import TreeToTreeAttention\n",
    "from functools import partial"
   ]
  },
  {
   "cell_type": "code",
   "execution_count": 3,
   "metadata": {
    "code_folding": [],
    "hide_input": false
   },
   "outputs": [],
   "source": [
    "num_vars = 10\n",
    "num_ints = 11\n",
    "one_hot = False\n",
    "binarize = True\n",
    "eos_token = True\n",
    "long_base_case = True\n",
    "input_as_seq = False\n",
    "output_as_seq = False"
   ]
  },
  {
   "cell_type": "code",
   "execution_count": 4,
   "metadata": {
    "code_folding": [],
    "hide_input": false,
    "scrolled": false
   },
   "outputs": [],
   "source": [
    "for_lambda_dset = ForLambdaDataset(\"ANC/Easy-arbitraryForList.json\", binarize=binarize, \n",
    "                                   eos_token=eos_token, one_hot=one_hot, \n",
    "                                   long_base_case=long_base_case, input_as_seq=input_as_seq, \n",
    "                                   output_as_seq=output_as_seq)"
   ]
  },
  {
   "cell_type": "code",
   "execution_count": 5,
   "metadata": {
    "code_folding": [
     0
    ]
   },
   "outputs": [],
   "source": [
    "def reset_all_parameters_uniform(model, stdev):\n",
    "    for param in model.parameters():\n",
    "        nn.init.uniform_(param, -stdev, stdev)"
   ]
  },
  {
   "cell_type": "code",
   "execution_count": 6,
   "metadata": {
    "scrolled": false
   },
   "outputs": [],
   "source": [
    "embedding_size = 100 #... 256 is from the paper, but 100 is WAY faster\n",
    "hidden_size = 256\n",
    "num_layers = 1\n",
    "alignment_size = 50\n",
    "align_type = 1\n",
    "eos_bonus = 1 if eos_token else 0\n",
    "encoder_input_size = num_vars + num_ints + len(for_ops) + eos_bonus\n",
    "encoder = TreeEncoder(encoder_input_size, hidden_size, num_layers, [1, 2, 3, 4, 5], attention=True, one_hot=one_hot)\n",
    "nclass = num_vars + num_ints + len(lambda_ops)\n",
    "plot_every = 100\n",
    "max_num_children = 2 if binarize else 4\n",
    "\n",
    "decoder = TreeDecoder(embedding_size, hidden_size, max_num_children, nclass=nclass)\n",
    "# decoder = GrammarTreeDecoder(embedding_size, hidden_size, max_num_children, \n",
    "#                              parent_to_category_LAMBDA, len(LambdaGrammar), category_to_child_LAMBDA,\n",
    "#                             num_vars, num_ints, binarized=binarize)\n",
    "\n",
    "program_model = TreeToTreeAttention(encoder, decoder, hidden_size, embedding_size, nclass=nclass,\n",
    "                                    alignment_size=alignment_size, align_type=align_type)\n",
    "    \n",
    "reset_all_parameters_uniform(program_model, 0.1)\n",
    "encoder.initialize_forget_bias(3)\n",
    "decoder.initialize_forget_bias(3)"
   ]
  },
  {
   "cell_type": "code",
   "execution_count": 7,
   "metadata": {},
   "outputs": [],
   "source": [
    "# program_model = program_model.cuda()"
   ]
  },
  {
   "cell_type": "code",
   "execution_count": 8,
   "metadata": {
    "code_folding": [
     0
    ]
   },
   "outputs": [],
   "source": [
    "optimizer = optim.Adam(program_model.parameters(), lr=0.01)\n",
    "lr_scheduler = optim.lr_scheduler.ReduceLROnPlateau(optimizer, verbose=True, patience=500, factor=0.8)"
   ]
  },
  {
   "cell_type": "code",
   "execution_count": 9,
   "metadata": {},
   "outputs": [],
   "source": [
    "# Counts the number of matches between the prediction and target.\n",
    "def count_matches(prediction, target):\n",
    "    matches = 0\n",
    "    if int(prediction.value) == int(target.value):\n",
    "        matches += matches\n",
    "    for i in range(min(len(target.children), len(prediction.children))):\n",
    "        matches += count_matches(prediction.children[i], target.children[i])\n",
    "    return matches\n",
    "\n",
    "# Program accuracy (1 if completely correct, 0 otherwise)\n",
    "def program_accuracy(prediction, target):\n",
    "    if prediction.size() == count_matches(prediction, target) and \\\n",
    "       prediction.size() == target.size():\n",
    "        return 1\n",
    "    else:\n",
    "        return 0\n",
    "\n",
    "# Calculate validation accuracy (this could either be program or token accuracy)\n",
    "def validation_criterion(prediction, target):\n",
    "    return program_accuracy(prediction, target)"
   ]
  },
  {
   "cell_type": "code",
   "execution_count": null,
   "metadata": {},
   "outputs": [],
   "source": [
    "program_model.load_state_dict(torch.load('tree_to_tree_try.pth'))"
   ]
  },
  {
   "cell_type": "code",
   "execution_count": null,
   "metadata": {},
   "outputs": [],
   "source": [
    "for for_prog, target_prog in for_lambda_dset:\n",
    "    program_model.print_example(for_prog, target_prog)\n",
    "    break"
   ]
  },
  {
   "cell_type": "code",
   "execution_count": null,
   "metadata": {
    "pixiedust": {
     "displayParams": {}
    },
    "scrolled": false
   },
   "outputs": [
    {
     "name": "stdout",
     "output_type": "stream",
     "text": [
      "Epoch 0/0\n",
      "----------\n",
      "Epoch Number: 0, Batch Number: 200, Training Loss: 69.2415\n",
      "Time so far is 0m 15s\n",
      "Epoch Number: 0, Batch Number: 200, Validation Metric: 0.0000\n",
      "Epoch Number: 0, Batch Number: 400, Training Loss: 42.6463\n",
      "Time so far is 0m 27s\n",
      "Epoch Number: 0, Batch Number: 400, Validation Metric: 0.0000\n",
      "Epoch Number: 0, Batch Number: 600, Training Loss: 43.0514\n",
      "Time so far is 0m 46s\n",
      "Epoch Number: 0, Batch Number: 600, Validation Metric: 0.0000\n",
      "Epoch Number: 0, Batch Number: 800, Training Loss: 34.6219\n",
      "Time so far is 0m 59s\n",
      "Epoch Number: 0, Batch Number: 800, Validation Metric: 0.0000\n",
      "Epoch Number: 0, Batch Number: 1000, Training Loss: 27.1791\n",
      "Time so far is 1m 9s\n",
      "Epoch Number: 0, Batch Number: 1000, Validation Metric: 0.0000\n",
      "Epoch Number: 0, Batch Number: 1200, Training Loss: 27.5135\n",
      "Time so far is 1m 18s\n",
      "Epoch Number: 0, Batch Number: 1200, Validation Metric: 0.0000\n",
      "Epoch Number: 0, Batch Number: 1400, Training Loss: 24.2400\n",
      "Time so far is 1m 27s\n",
      "Epoch Number: 0, Batch Number: 1400, Validation Metric: 0.0000\n",
      "Epoch Number: 0, Batch Number: 1600, Training Loss: 23.0400\n",
      "Time so far is 1m 37s\n",
      "Epoch Number: 0, Batch Number: 1600, Validation Metric: 0.0000\n",
      "Epoch Number: 0, Batch Number: 1800, Training Loss: 20.3186\n",
      "Time so far is 1m 47s\n",
      "Epoch Number: 0, Batch Number: 1800, Validation Metric: 0.0000\n",
      "Epoch Number: 0, Batch Number: 2000, Training Loss: 19.4000\n",
      "Time so far is 1m 58s\n",
      "Epoch Number: 0, Batch Number: 2000, Validation Metric: 0.0000\n",
      "Epoch Number: 0, Batch Number: 2200, Training Loss: 17.8041\n",
      "Time so far is 2m 8s\n",
      "Epoch Number: 0, Batch Number: 2200, Validation Metric: 0.0000\n",
      "Epoch Number: 0, Batch Number: 2400, Training Loss: 15.9115\n",
      "Time so far is 2m 18s\n",
      "Epoch Number: 0, Batch Number: 2400, Validation Metric: 0.0000\n",
      "Epoch Number: 0, Batch Number: 2600, Training Loss: 15.6577\n",
      "Time so far is 2m 29s\n",
      "Epoch Number: 0, Batch Number: 2600, Validation Metric: 0.0000\n",
      "Epoch Number: 0, Batch Number: 2800, Training Loss: 14.2243\n",
      "Time so far is 2m 39s\n",
      "Epoch Number: 0, Batch Number: 2800, Validation Metric: 0.0000\n",
      "Epoch Number: 0, Batch Number: 3000, Training Loss: 12.6209\n",
      "Time so far is 2m 49s\n",
      "Epoch Number: 0, Batch Number: 3000, Validation Metric: 0.0000\n",
      "Epoch Number: 0, Batch Number: 3200, Training Loss: 12.2045\n",
      "Time so far is 3m 1s\n",
      "Epoch Number: 0, Batch Number: 3200, Validation Metric: 0.0000\n",
      "Epoch Number: 0, Batch Number: 3400, Training Loss: 10.5276\n",
      "Time so far is 3m 11s\n",
      "Epoch Number: 0, Batch Number: 3400, Validation Metric: 0.0000\n",
      "Epoch Number: 0, Batch Number: 3600, Training Loss: 9.5817\n",
      "Time so far is 3m 21s\n",
      "Epoch Number: 0, Batch Number: 3600, Validation Metric: 0.0000\n",
      "Epoch Number: 0, Batch Number: 3800, Training Loss: 9.3425\n",
      "Time so far is 3m 31s\n",
      "Epoch Number: 0, Batch Number: 3800, Validation Metric: 0.0000\n",
      "Epoch Number: 0, Batch Number: 4000, Training Loss: 8.5478\n",
      "Time so far is 3m 42s\n",
      "Epoch Number: 0, Batch Number: 4000, Validation Metric: 0.0000\n",
      "Epoch Number: 0, Batch Number: 4200, Training Loss: 7.1932\n",
      "Time so far is 3m 53s\n",
      "Epoch Number: 0, Batch Number: 4200, Validation Metric: 0.0000\n",
      "Epoch Number: 0, Batch Number: 4400, Training Loss: 6.8096\n",
      "Time so far is 4m 4s\n",
      "Epoch Number: 0, Batch Number: 4400, Validation Metric: 0.0000\n",
      "Epoch Number: 0, Batch Number: 4600, Training Loss: 5.9716\n",
      "Time so far is 4m 15s\n",
      "Epoch Number: 0, Batch Number: 4600, Validation Metric: 0.0000\n",
      "Epoch Number: 0, Batch Number: 4800, Training Loss: 5.6946\n",
      "Time so far is 4m 27s\n",
      "Epoch Number: 0, Batch Number: 4800, Validation Metric: 0.0000\n",
      "Epoch Number: 0, Batch Number: 5000, Training Loss: 5.3787\n",
      "Time so far is 4m 37s\n",
      "Epoch Number: 0, Batch Number: 5000, Validation Metric: 0.0000\n",
      "Epoch Number: 0, Batch Number: 5200, Training Loss: 5.5141\n",
      "Time so far is 4m 49s\n",
      "Epoch Number: 0, Batch Number: 5200, Validation Metric: 0.0000\n",
      "Epoch Number: 0, Batch Number: 5400, Training Loss: 6.4878\n",
      "Time so far is 4m 60s\n",
      "Epoch Number: 0, Batch Number: 5400, Validation Metric: 0.0000\n",
      "Epoch Number: 0, Batch Number: 5600, Training Loss: 7.1152\n",
      "Time so far is 5m 10s\n",
      "Epoch Number: 0, Batch Number: 5600, Validation Metric: 0.0000\n",
      "Epoch Number: 0, Batch Number: 5800, Training Loss: 6.0116\n",
      "Time so far is 5m 22s\n",
      "Epoch Number: 0, Batch Number: 5800, Validation Metric: 0.0000\n"
     ]
    }
   ],
   "source": [
    "best_model, train_plot_losses, validation_plot_losses = training.train_model_tree_to_tree(program_model, for_lambda_dset, \n",
    "                                 optimizer, lr_scheduler=None, num_epochs=1, plot_every=plot_every,\n",
    "                                 batch_size=100, print_every=200, validation_criterion=validation_criterion,\n",
    "                                 use_cuda=False)"
   ]
  },
  {
   "cell_type": "code",
   "execution_count": null,
   "metadata": {},
   "outputs": [],
   "source": [
    "plt.plot([x * plot_every for x in range(len(train_plot_losses))], train_plot_losses)\n",
    "plt.show()\n",
    "\n",
    "plt.plot([x * plot_every for x in range(len(validation_plot_losses))], validation_plot_losses)\n",
    "plt.show()"
   ]
  },
  {
   "cell_type": "code",
   "execution_count": null,
   "metadata": {},
   "outputs": [],
   "source": [
    "n = num_ints + num_vars\n",
    "\n",
    "# Check whether a node is syntactically valid, given its parent and index\n",
    "# Then recursively do it for all the node's children\n",
    "def check_valid(node, parent, child_index):\n",
    "    category = parent_to_category_LAMBDA(parent, child_index, num_vars, num_ints)\n",
    "    possible_outputs = category_to_child_LAMBDA(category, num_vars, num_ints)\n",
    "    if not int(node.value) in possible_outputs:\n",
    "        print(\"parent\", parent, \"child_index\", child_index)\n",
    "        print(\"ERROR\", int(node.value), category)\n",
    "        return False\n",
    "    if (len(node.children) > 0):\n",
    "        child1 = check_valid(node.children[0], int(node.value), 0)\n",
    "        if not child1:\n",
    "            return False\n",
    "        child2 = check_valid(node.children[1], parent, child_index + 1)\n",
    "        if not child2:\n",
    "            return False\n",
    "    return True\n",
    "\n",
    "# Check all the programs in a dataset for syntactic accuracy\n",
    "# (this is a debugging function used to double check the accuracy of your grammar)\n",
    "def check_all():\n",
    "    i = 0\n",
    "    # Check grammar is right\n",
    "    for prog in for_lambda_dset:\n",
    "        correct = check_valid(prog[1], None, 0)\n",
    "        if correct is False:\n",
    "            print(i)\n",
    "            pretty_print_tree(prog[1])\n",
    "            return\n",
    "        i += 1\n",
    "        \n",
    "        \n",
    "        \n",
    "check_all() #kangaroo"
   ]
  }
 ],
 "metadata": {
  "kernelspec": {
   "display_name": "Python 3",
   "language": "python",
   "name": "python3"
  },
  "language_info": {
   "codemirror_mode": {
    "name": "ipython",
    "version": 3
   },
   "file_extension": ".py",
   "mimetype": "text/x-python",
   "name": "python",
   "nbconvert_exporter": "python",
   "pygments_lexer": "ipython3",
   "version": "3.6.5"
  },
  "notify_time": "10"
 },
 "nbformat": 4,
 "nbformat_minor": 1
}
