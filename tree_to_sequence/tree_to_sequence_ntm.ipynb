{
 "cells": [
  {
   "cell_type": "code",
   "execution_count": null,
   "metadata": {},
   "outputs": [],
   "source": [
    "cd .."
   ]
  },
  {
   "cell_type": "code",
   "execution_count": null,
   "metadata": {},
   "outputs": [],
   "source": [
    "import torch.optim as optim\n",
    "import torch.nn as nn\n",
    "\n",
    "from tree_to_sequence.program_datasets import TreeNTMDataset\n",
    "from tree_to_sequence.tree_to_sequence_attention_ntm import TreeToSequenceAttentionNTM\n",
    "from tree_to_sequence.tree_encoder import TreeEncoder\n",
    "from tree_to_sequence.sequence_encoder import SequenceEncoder\n",
    "from tree_to_sequence.multilayer_lstm_cell import MultilayerLSTMCell\n",
    "from tree_to_sequence.translating_trees import tree_to_list, decode_tokens, print_tree\n",
    "from neural_nets_library import training\n",
    "from neural_turing_machine.NTM import NTM\n",
    "from ANC.util import printProgram"
   ]
  },
  {
   "cell_type": "code",
   "execution_count": null,
   "metadata": {
    "code_folding": []
   },
   "outputs": [],
   "source": [
    "num_vars = 10\n",
    "num_ints = 11\n",
    "\n",
    "for_ops = {\n",
    "    \"Var\": 0,\n",
    "    \"Const\": 1,\n",
    "    \"Plus\": 2,\n",
    "    \"Minus\": 3,\n",
    "    \"EqualFor\": 4,\n",
    "    \"LeFor\": 5,\n",
    "    \"GeFor\": 6,\n",
    "    \"Assign\": 7,\n",
    "    \"If\": 8,\n",
    "    \"Seq\": 9,\n",
    "    \"For\": 10\n",
    "}\n",
    "\n",
    "for_ops = {\"<\" + k.upper() + \">\": v for k,v in for_ops.items()}\n",
    "\n",
    "lambda_calculus_ops = {\n",
    "                \"<VARIABLE>\": 0,\n",
    "                \"<ABSTRACTION>\": 1,\n",
    "                \"<NUMBER>\": 2,\n",
    "                \"<BOOLEAN>\": 3,\n",
    "                \"<NIL>\": 4,\n",
    "                \"<IF>\": 5,\n",
    "                \"<CONS>\": 6,\n",
    "                \"<MATCH>\": 7,\n",
    "                \"<UNARYOPER>\": 8,\n",
    "                \"<BINARYOPER>\": 9,\n",
    "                \"<LET>\": 10,\n",
    "                \"<LETREC>\": 11,\n",
    "                \"<TRUE>\": 12,\n",
    "                \"<FALSE>\": 13,\n",
    "                \"<TINT>\": 14,\n",
    "                \"<TBOOL>\": 15,\n",
    "                \"<TINTLIST>\": 16,\n",
    "                \"<TFUN>\": 17,\n",
    "                \"<ARGUMENT>\": 18,\n",
    "                \"<NEG>\": 19,\n",
    "                \"<NOT>\": 20,\n",
    "                \"<PLUS>\": 21,\n",
    "                \"<MINUS>\": 22,\n",
    "                \"<TIMES>\": 23,\n",
    "                \"<DIVIDE>\": 24,\n",
    "                \"<AND>\": 25,\n",
    "                \"<OR>\": 26,\n",
    "                \"<EQUAL>\": 27,\n",
    "                \"<LESS>\": 28,\n",
    "                \"<APPLICATION>\": 29,\n",
    "                \"<HEAD>\": 30,\n",
    "                \"<TAIL>\": 31\n",
    "            }"
   ]
  },
  {
   "cell_type": "code",
   "execution_count": null,
   "metadata": {
    "code_folding": [],
    "hide_input": false
   },
   "outputs": [],
   "source": [
    "input_eos_token = False\n",
    "input_as_seq = False\n",
    "use_embedding = True\n",
    "eos_bonus = 1 if input_eos_token and input_as_seq else 0\n",
    "long_base_case = True\n",
    "binarize = True"
   ]
  },
  {
   "cell_type": "code",
   "execution_count": null,
   "metadata": {
    "code_folding": [],
    "hide_input": false
   },
   "outputs": [],
   "source": [
    "is_lambda_calculus = False\n",
    "M, R = 5, 3\n",
    "N = 11\n",
    "thinking_time = 10 #TODO: change back\n",
    "for_ntm_dset = TreeNTMDataset(\"ANC/Easy-arbitraryForListWithOutput.json\", \n",
    "                              is_lambda_calculus, thinking_time, repeats=1, num_ints = M,\n",
    "                              binarize=binarize, input_eos_token=input_eos_token, \n",
    "                              use_embedding=use_embedding, long_base_case=long_base_case, \n",
    "                              input_as_seq=input_as_seq, cuda=False)\n"
   ]
  },
  {
   "cell_type": "code",
   "execution_count": null,
   "metadata": {},
   "outputs": [],
   "source": [
    "for i in range(10):\n",
    "    print(for_ntm_dset[i])"
   ]
  },
  {
   "cell_type": "code",
   "execution_count": null,
   "metadata": {
    "code_folding": []
   },
   "outputs": [],
   "source": [
    "def reset_all_parameters_uniform(model, stdev):\n",
    "    for param in model.parameters():\n",
    "        nn.init.uniform(param, -stdev, stdev)"
   ]
  },
  {
   "cell_type": "code",
   "execution_count": null,
   "metadata": {},
   "outputs": [],
   "source": [
    "embedding_size = 30\n",
    "hidden_size = 40\n",
    "num_layers = 1\n",
    "alignment_size = 50\n",
    "align_type = 1\n",
    "encoder_input_size = num_vars + num_ints + len(for_ops.keys()) + eos_bonus\n",
    "\n",
    "if input_as_seq:\n",
    "    encoder = SequenceEncoder(encoder_input_size, hidden_size, num_layers, attention=True, use_embedding=use_embedding)\n",
    "else:\n",
    "    encoder = TreeEncoder(encoder_input_size, hidden_size, num_layers, [1, 2], attention=True, use_embedding=use_embedding)\n",
    "\n",
    "    \n",
    "address_count=128\n",
    "address_size=30\n",
    "#num_ints = 20\n",
    "ntm = NTM(1, hidden_size, 1, address_count, address_size, [0,1])    \n",
    "\n",
    "# Each step takes input + prevguess + decoder w/ attention, input 0 on non first step\n",
    "decoder = MultilayerLSTMCell(2 + hidden_size, hidden_size, num_layers)\n",
    "program_model = TreeToSequenceAttentionNTM(encoder, decoder, ntm, hidden_size, embedding_size, \n",
    "                                           alignment_size=alignment_size, align_type=align_type)\n",
    "    \n",
    "reset_all_parameters_uniform(program_model, 0.1)\n",
    "encoder.initialize_forget_bias(3)\n",
    "decoder.initialize_forget_bias(3)"
   ]
  },
  {
   "cell_type": "code",
   "execution_count": null,
   "metadata": {},
   "outputs": [],
   "source": [
    "#program_model = program_model.cuda()"
   ]
  },
  {
   "cell_type": "code",
   "execution_count": null,
   "metadata": {
    "code_folding": [
     0
    ]
   },
   "outputs": [],
   "source": [
    "optimizer = optim.Adam(program_model.parameters(), lr=0.005) #Change back to 0.005\n",
    "lr_scheduler = optim.lr_scheduler.ReduceLROnPlateau(optimizer, verbose=True, patience=100, factor=0.8)"
   ]
  },
  {
   "cell_type": "code",
   "execution_count": null,
   "metadata": {},
   "outputs": [],
   "source": [
    "import torch\n",
    "#program_model.load_state_dict(torch.load('program_model.pth'))"
   ]
  },
  {
   "cell_type": "code",
   "execution_count": null,
   "metadata": {},
   "outputs": [],
   "source": [
    "training.train_model_tree_to_ntm(program_model, for_ntm_dset, \n",
    "                                 optimizer, lr_scheduler=lr_scheduler, num_epochs=3, \n",
    "                                 batch_size=100, plateau_lr=True, print_every=100,\n",
    "                                 use_cuda=False)"
   ]
  },
  {
   "cell_type": "code",
   "execution_count": null,
   "metadata": {
    "code_folding": []
   },
   "outputs": [],
   "source": [
    "# i = 0\n",
    "\n",
    "# for prog, target in for_anc_dset:\n",
    "# #     controller = program_model.forward_prediction(prog)\n",
    "# #     util.printProgram(controller, 0.5)\n",
    "    \n",
    "# #     loss.backward()\n",
    "    \n",
    "# #     for name, param in program_model.named_parameters():\n",
    "# #         print(name)\n",
    "# #         print(param.grad)\n",
    "        \n",
    "# #     optimizer.step()\n",
    "# #     optimizer.zero_grad()\n",
    "\n",
    "#     if i == 3:\n",
    "#         break\n",
    "        \n",
    "#     i += 1"
   ]
  },
  {
   "cell_type": "code",
   "execution_count": null,
   "metadata": {
    "scrolled": true
   },
   "outputs": [],
   "source": [
    "for prog, target in for_anc_dset[0:10]:\n",
    "    print(decode_tokens(tree_to_list(prog), 10, M, for_ops))\n",
    "    controller = program_model.forward_prediction(prog)\n",
    "    \n",
    "    input_memory = target[0][0]\n",
    "    correct_memory = target[1][0]\n",
    "    prediction_memory, _ = controller.forward_prediction([input_memory])\n",
    "    \n",
    "    # printProgram(controller, 0.5)\n",
    "    print(correct_memory[0])\n",
    "    print(prediction_memory[0])\n",
    "    \n",
    "    mem_diff = correct_memory[0] - prediction_memory[0].data\n",
    "    print(torch.sum(mem_diff * mem_diff))"
   ]
  },
  {
   "cell_type": "code",
   "execution_count": null,
   "metadata": {},
   "outputs": [],
   "source": []
  }
 ],
 "metadata": {
  "kernelspec": {
   "display_name": "Python 3",
   "language": "python",
   "name": "python3"
  },
  "language_info": {
   "codemirror_mode": {
    "name": "ipython",
    "version": 3
   },
   "file_extension": ".py",
   "mimetype": "text/x-python",
   "name": "python",
   "nbconvert_exporter": "python",
   "pygments_lexer": "ipython3",
   "version": "3.6.4"
  },
  "notify_time": "10"
 },
 "nbformat": 4,
 "nbformat_minor": 1
}
