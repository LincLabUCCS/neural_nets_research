{
 "cells": [
  {
   "cell_type": "code",
   "execution_count": null,
   "metadata": {},
   "outputs": [],
   "source": [
    "cd .."
   ]
  },
  {
   "cell_type": "code",
   "execution_count": null,
   "metadata": {},
   "outputs": [],
   "source": [
    "import torch.optim as optim\n",
    "import torch.nn as nn\n",
    "import torch\n",
    "import math\n",
    "import matplotlib.pyplot as plt\n",
    "\n",
    "from neural_nets_library import training\n",
    "from tree_to_sequence.tree_encoder import TreeEncoder\n",
    "from tree_to_sequence.tree_decoder import TreeDecoder\n",
    "from tree_to_sequence.program_datasets import IdentityTreeToTreeDataset\n",
    "from tree_to_sequence.program_datasets import ForLambdaDataset\n",
    "from tree_to_sequence.program_datasets import Const0\n",
    "from tree_to_sequence.translating_trees import pretty_print_tree\n",
    "\n",
    "\n",
    "from tree_to_sequence.tree_to_tree import TreeToTree"
   ]
  },
  {
   "cell_type": "code",
   "execution_count": null,
   "metadata": {
    "code_folding": [
     3,
     19
    ]
   },
   "outputs": [],
   "source": [
    "num_vars = 10\n",
    "num_ints = 11\n",
    "\n",
    "for_ops = {\n",
    "    \"Var\": 0,\n",
    "    \"Const\": 1,\n",
    "    \"Plus\": 2,\n",
    "    \"Minus\": 3,\n",
    "    \"EqualFor\": 4,\n",
    "    \"LeFor\": 5,\n",
    "    \"GeFor\": 6,\n",
    "    \"Assign\": 7,\n",
    "    \"If\": 8,\n",
    "    \"Seq\": 9,\n",
    "    \"For\": 10\n",
    "}\n",
    "\n",
    "for_ops = {\"<\" + k.upper() + \">\": v for k,v in for_ops.items()}\n",
    "\n",
    "lambda_calculus_ops = {\n",
    "                \"<VARIABLE>\": 0,\n",
    "                \"<ABSTRACTION>\": 1,\n",
    "                \"<NUMBER>\": 2,\n",
    "                \"<BOOLEAN>\": 3,\n",
    "                \"<NIL>\": 4,\n",
    "                \"<IF>\": 5,\n",
    "                \"<CONS>\": 6,\n",
    "                \"<MATCH>\": 7,\n",
    "                \"<UNARYOPER>\": 8,\n",
    "                \"<BINARYOPER>\": 9,\n",
    "                \"<LET>\": 10,\n",
    "                \"<LETREC>\": 11,\n",
    "                \"<TRUE>\": 12,\n",
    "                \"<FALSE>\": 13,\n",
    "                \"<TINT>\": 14,\n",
    "                \"<TBOOL>\": 15,\n",
    "                \"<TINTLIST>\": 16,\n",
    "                \"<TFUN>\": 17,\n",
    "                \"<ARGUMENT>\": 18,\n",
    "                \"<NEG>\": 19,\n",
    "                \"<NOT>\": 20,\n",
    "                \"<PLUS>\": 21,\n",
    "                \"<MINUS>\": 22,\n",
    "                \"<TIMES>\": 23,\n",
    "                \"<DIVIDE>\": 24,\n",
    "                \"<AND>\": 25,\n",
    "                \"<OR>\": 26,\n",
    "                \"<EQUAL>\": 27,\n",
    "                \"<LESS>\": 28,\n",
    "                \"<APPLICATION>\": 29,\n",
    "                \"<HEAD>\": 30,\n",
    "                \"<TAIL>\": 31\n",
    "            }\n",
    "\n",
    "lambda_ops = {\n",
    "            \"<VAR>\": 0,\n",
    "            \"<CONST>\": 1,\n",
    "            \"<PLUS>\": 2,\n",
    "            \"<MINUS>\": 3,\n",
    "            \"<EQUAL>\": 4,\n",
    "            \"<LE>\": 5,\n",
    "            \"<GE>\": 6,\n",
    "            \"<IF>\": 7,\n",
    "            \"<LET>\": 8,\n",
    "            \"<UNIT>\": 9,\n",
    "            \"<LETREC>\": 10,\n",
    "            \"<APP>\": 11,\n",
    "        }"
   ]
  },
  {
   "cell_type": "code",
   "execution_count": null,
   "metadata": {
    "code_folding": [],
    "hide_input": false
   },
   "outputs": [],
   "source": [
    "use_embedding = True\n",
    "binarize = True\n",
    "eos_tokens = True\n",
    "long_base_case = True"
   ]
  },
  {
   "cell_type": "code",
   "execution_count": null,
   "metadata": {
    "code_folding": [],
    "hide_input": false,
    "scrolled": false
   },
   "outputs": [],
   "source": [
    "# identity_dset = IdentityTreeToTreeDataset(\"ANC/Easy-arbitraryForListWithOutput.json\", \n",
    "#                                       binarize=binarize, is_lambda_calculus=False, \n",
    "#                                       num_ints=num_ints, num_vars=num_vars,\n",
    "#                                       use_embedding=use_embedding, cuda=False)\n",
    "# print(len(identity_dset))\n",
    "\n",
    "for_lambda_dset = ForLambdaDataset(\"ANC/Easy-arbitraryForList.json\", binarize=binarize, \n",
    "                                   eos_tokens=eos_tokens, use_embedding=use_embedding, \n",
    "                                   long_base_case=long_base_case, input_as_seq=False, output_as_seq=False)\n",
    "print(len(for_lambda_dset))\n",
    "\n",
    "# Calculate max-size so we're sure it's good enough\n",
    "max_size = max([pair[1].size() for pair in for_lambda_dset])\n",
    "print(max_size)\n",
    "\n",
    "\n"
   ]
  },
  {
   "cell_type": "code",
   "execution_count": null,
   "metadata": {
    "code_folding": [
     0
    ]
   },
   "outputs": [],
   "source": [
    "def reset_all_parameters_uniform(model, stdev):\n",
    "    for param in model.parameters():\n",
    "        nn.init.uniform(param, -stdev, stdev)"
   ]
  },
  {
   "cell_type": "code",
   "execution_count": null,
   "metadata": {
    "scrolled": false
   },
   "outputs": [],
   "source": [
    "embedding_size = 100#256\n",
    "hidden_size = 100#256\n",
    "num_layers = 1\n",
    "alignment_size = 50\n",
    "align_type = 1\n",
    "encoder_input_size = num_vars + num_ints + len(for_ops) + 1\n",
    "encoder = TreeEncoder(encoder_input_size, hidden_size, num_layers, [1, 2], attention=True, use_embedding=use_embedding, dropout=0.5)\n",
    "nclass = 35#num_vars + num_ints + len(lambda_ops)\n",
    "plot_every = 100\n",
    "max_num_children = 2\n",
    "\n",
    "decoder = TreeDecoder(embedding_size, hidden_size, max_num_children, nclass=nclass, binarized=binarize)\n",
    "program_model = TreeToTree(encoder, decoder, hidden_size, embedding_size, nclass=nclass,\n",
    "                           alignment_size=alignment_size, align_type=align_type,\n",
    "                          max_size=max_size)\n",
    "\n",
    "reset_all_parameters_uniform(program_model, 0.1)\n",
    "encoder.initialize_forget_bias(3)\n",
    "decoder.initialize_forget_bias(3)\n"
   ]
  },
  {
   "cell_type": "code",
   "execution_count": null,
   "metadata": {},
   "outputs": [],
   "source": [
    "#program_model = program_model.cuda()"
   ]
  },
  {
   "cell_type": "code",
   "execution_count": null,
   "metadata": {
    "code_folding": [
     0
    ]
   },
   "outputs": [],
   "source": [
    "optimizer = optim.Adam(program_model.parameters(), lr=0.01)\n",
    "# lr_scheduler = optim.lr_scheduler.ReduceLROnPlateau(optimizer, verbose=True, patience=1000, factor=0.9999)\n",
    "lr_scheduler = optim.lr_scheduler.ReduceLROnPlateau(optimizer, verbose=True, patience=500, factor=0.8)"
   ]
  },
  {
   "cell_type": "code",
   "execution_count": null,
   "metadata": {},
   "outputs": [],
   "source": [
    "# Token accuracy of the program\n",
    "def count_matches(prediction, target):\n",
    "    matches = 0\n",
    "    if int(prediction.value) == int(target.value):\n",
    "        matches = matches + 1\n",
    "    for i in range(min(len(target.children), len(prediction.children))):\n",
    "        matches = matches + count_matches(prediction.children[i], target.children[i])\n",
    "    size_diff = math.fabs(len(target.children) - len(prediction.children))\n",
    "    return matches - size_diff\n",
    "\n",
    "\n",
    "# Program accuracy (1 if completely correct, 0 otherwise)\n",
    "def all_matches(prediction, target):\n",
    "    # Nodes must have the same value\n",
    "    if not int(prediction.value) == int(target.value):\n",
    "        return 0\n",
    "    # ... and the same number of kids\n",
    "    if not len(prediction.children) == len(target.children):\n",
    "        return 0\n",
    "    n = len(prediction.children)\n",
    "    # ... and match perfectly for each kid\n",
    "    for i in range(n):\n",
    "        if all_matches(prediction.children[i], target.children[i]) == 0:\n",
    "            return 0\n",
    "    return 1\n",
    "\n",
    "# Calc validation accuracy (this could either be program or token accuracy)\n",
    "def validation_criterion(prediction, target):\n",
    "    return all_matches(prediction, target)"
   ]
  },
  {
   "cell_type": "markdown",
   "metadata": {},
   "source": []
  },
  {
   "cell_type": "code",
   "execution_count": null,
   "metadata": {},
   "outputs": [],
   "source": [
    "# for param_group in optimizer.param_groups:\n",
    "#     print(param_group[\"lr\"])\n",
    "print(nclass)\n",
    "print(program_model.decoder)\n",
    "print(decoder)"
   ]
  },
  {
   "cell_type": "code",
   "execution_count": null,
   "metadata": {
    "pixiedust": {
     "displayParams": {}
    },
    "scrolled": false
   },
   "outputs": [],
   "source": [
    "# %%pixie_debugger\n",
    "\n",
    "best_model, train_plot_losses, validation_plot_losses = training.train_model_tree_to_tree(program_model, for_lambda_dset, \n",
    "                                 optimizer, lr_scheduler=lr_scheduler, num_epochs=1, plot_every=plot_every,\n",
    "                                 batch_size=100, plateau_lr=True, print_every=200, validation_criterion=validation_criterion,\n",
    "                                 use_cuda=False) #TODO: originally epochs=3\n",
    "\n",
    "\n",
    "\n"
   ]
  },
  {
   "cell_type": "code",
   "execution_count": null,
   "metadata": {},
   "outputs": [],
   "source": [
    "#%debug\n",
    "plt.plot([x * plot_every for x in range(len(train_plot_losses))], train_plot_losses)\n",
    "plt.show()\n",
    "\n",
    "plt.plot([x * plot_every for x in range(len(validation_plot_losses))], validation_plot_losses)\n",
    "plt.show()"
   ]
  },
  {
   "cell_type": "code",
   "execution_count": null,
   "metadata": {},
   "outputs": [],
   "source": [
    "# import pixiedust\n",
    "train_plot_losses_old = train_plot_losses_old + train_plot_losses\n",
    "validation_plot_losses_old = validation_plot_losses_old + validation_plot_losses"
   ]
  },
  {
   "cell_type": "code",
   "execution_count": null,
   "metadata": {},
   "outputs": [],
   "source": [
    "# from tree_to_sequence.translating_trees import pretty_print_attention_t2t\n",
    "\n",
    "def pseudo_forward_train(input_tree, target_tree, teacher_forcing=True):\n",
    "    \"\"\"\n",
    "    Generate predictions for an output tree given an input tree, then calculate the loss.\n",
    "    \"\"\"\n",
    "    # Encode tree\n",
    "    annotations, decoder_hiddens, decoder_cell_states = program_model.encoder(input_tree)\n",
    "\n",
    "    if program_model.align_type <= 1:\n",
    "        attention_hidden_values = program_model.attention_hidden(annotations)\n",
    "    else:\n",
    "        attention_hidden_values = annotations\n",
    "\n",
    "    # number to accumulate loss\n",
    "    loss = 0\n",
    "\n",
    "    # Tuple: (hidden_state, cell_state, desired_output, parent_value, child_index)\n",
    "    unexpanded = [(decoder_hiddens, decoder_cell_states, target_tree, None, 0)]\n",
    "\n",
    "    # Any line relating to this list was put in just for debugging purposes\n",
    "    all_attention_probs = [] \n",
    "\n",
    "    # while stack isn't empty:\n",
    "    while (len(unexpanded)) > 0:\n",
    "        # Pop last item\n",
    "        decoder_hiddens, decoder_cell_states, targetNode, parent_val, child_index = unexpanded.pop()\n",
    "        print(\"GENERATING\", targetNode.value)\n",
    "        # Use attention and past hidden state to generate scores\n",
    "        attention_logits = program_model.attention_logits(attention_hidden_values, decoder_hiddens)\n",
    "        attention_probs = program_model.softmax(attention_logits) # number_of_nodes x 1\n",
    "        all_attention_probs.append(attention_probs) #TODO - take out!\n",
    "        print(\"ATTENTION PROBS\", attention_probs)\n",
    "        context_vec = (attention_probs * annotations).sum(0).unsqueeze(0) # 1 x hidden_size\n",
    "        et = program_model.tanh(program_model.attention_presoftmax(torch.cat((decoder_hiddens, context_vec), dim=1))) # 1 x hidden_size\n",
    "        # Calculate loss\n",
    "        \n",
    "        log_odds = program_model.output_log_odds(et)\n",
    "        print(\"LOG ODDS\", log_odds)\n",
    "        loss = loss + program_model.loss_func(log_odds, targetNode.value)\n",
    "        \n",
    "        \n",
    "        # If we have an EOS, there are no children to generate\n",
    "        if int(targetNode.value) == program_model.EOS_value:\n",
    "            continue\n",
    "\n",
    "        # Teacher forcing means we use the correct value (not the predicted value) of a node to generate its children\n",
    "        if teacher_forcing:\n",
    "            next_input = targetNode.value\n",
    "        else:\n",
    "            _, next_input = log_odds.topk(1)\n",
    "\n",
    "        decoder_input = torch.cat((program_model.embedding(next_input), et), 1)\n",
    "\n",
    "        for i, child in enumerate(targetNode.children):\n",
    "            # Parent node of a node's children is that node\n",
    "            parent = next_input\n",
    "            new_child_index = i\n",
    "            # ... unless you're the right child\n",
    "            if program_model.binarized and i == 1:\n",
    "                parent = parent_val\n",
    "                new_child_index = child_index + 1\n",
    "\n",
    "            # Get hidden state and cell state which will be used to generate this node's children\n",
    "            child_hiddens, child_cell_states = program_model.decoder(new_child_index, decoder_input, decoder_hiddens, decoder_cell_states)\n",
    "            unexpanded.append((child_hiddens, child_cell_states, child, parent, new_child_index))\n",
    "\n",
    "    # Uncomment if you want to see where the attention is focusing as each node is generated\n",
    "#         if program_model.i % 200 == 0:\n",
    "#             pretty_print_attention_t2t(all_attention_probs, input_tree, target_tree)\n",
    "    program_model.i += 1\n",
    "    return loss"
   ]
  },
  {
   "cell_type": "code",
   "execution_count": null,
   "metadata": {
    "scrolled": false
   },
   "outputs": [],
   "source": [
    "for prog in for_lambda_dset[:5]:\n",
    "    prediction = program_model.forward_prediction(prog[0])\n",
    "    if not all_matches(prediction, prog[1]):\n",
    "        print(\"expected\")\n",
    "        pretty_print_tree(prog[1])\n",
    "        print(\"got\")\n",
    "        pretty_print_tree(prediction)\n",
    "        print(\"stepping through...\")\n",
    "        pseudo_forward_train(prog[0], prog[1])"
   ]
  },
  {
   "cell_type": "code",
   "execution_count": null,
   "metadata": {},
   "outputs": [],
   "source": [
    "# print(program_model.parameters)\n",
    "program_model.decoder.forward"
   ]
  }
 ],
 "metadata": {
  "kernelspec": {
   "display_name": "Python 3",
   "language": "python",
   "name": "python3"
  },
  "language_info": {
   "codemirror_mode": {
    "name": "ipython",
    "version": 3
   },
   "file_extension": ".py",
   "mimetype": "text/x-python",
   "name": "python",
   "nbconvert_exporter": "python",
   "pygments_lexer": "ipython3",
   "version": "3.6.4"
  },
  "notify_time": "10"
 },
 "nbformat": 4,
 "nbformat_minor": 1
}
